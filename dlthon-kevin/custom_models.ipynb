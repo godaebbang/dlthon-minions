{
 "cells": [
  {
   "cell_type": "markdown",
   "id": "a03201ef",
   "metadata": {
    "id": "a63262ad"
   },
   "source": [
    "# 데이터"
   ]
  },
  {
   "cell_type": "code",
   "execution_count": 1,
   "id": "a2454be2",
   "metadata": {
    "id": "cf7ba9f6"
   },
   "outputs": [],
   "source": [
    "# 라이브러리 불러오기\n",
    "import os\n",
    "import numpy as np\n",
    "import pandas as pd\n",
    "import matplotlib.pyplot as plt\n",
    "import seaborn as sns\n",
    "import tensorflow as tf\n",
    "from tensorflow import keras\n",
    "\n",
    "import re\n",
    "from collections import Counter\n",
    "import sentencepiece as spm\n",
    "from konlpy.tag import Okt\n",
    "from konlpy.tag import Mecab\n",
    "import csv \n",
    "from tensorflow.keras.preprocessing.sequence import pad_sequences\n",
    "from sklearn.model_selection import train_test_split\n",
    "\n",
    "from tensorflow.keras.models import Sequential\n",
    "import tensorflow_addons as tfa\n",
    "from itertools import combinations\n",
    "from sklearn.metrics import (\n",
    "    accuracy_score, \n",
    "    precision_score, \n",
    "    recall_score, \n",
    "    f1_score, \n",
    "    confusion_matrix\n",
    ")"
   ]
  },
  {
   "cell_type": "code",
   "execution_count": 2,
   "id": "08e033a9",
   "metadata": {
    "id": "SlAOhRs09rt2"
   },
   "outputs": [],
   "source": [
    "# 한글 폰트에 문제가 생겼을 때\n",
    "\n",
    "# 한글 폰트 설치\n",
    "!apt-get update -qq\n",
    "!apt-get install -qq fonts-nanum\n",
    "\n",
    "# 설치한 폰트를 matplotlib에서 사용할 수 있도록 설정\n",
    "import matplotlib.font_manager as fm\n",
    "import matplotlib.pyplot as plt\n",
    "\n",
    "# 나눔 폰트 경로 설정\n",
    "font_path = '/usr/share/fonts/truetype/nanum/NanumGothic.ttf'\n",
    "\n",
    "# 폰트 매니저에 폰트 추가\n",
    "fm.fontManager.addfont(font_path)\n",
    "plt.rc('font', family='NanumGothic')  # 폰트 설정"
   ]
  },
  {
   "cell_type": "markdown",
   "id": "7a24ac15",
   "metadata": {
    "id": "482d4066"
   },
   "source": [
    "## 데이터 업로드"
   ]
  },
  {
   "cell_type": "markdown",
   "id": "dafbb70f",
   "metadata": {
    "id": "7ae4fc0d"
   },
   "source": [
    "#### 학습 데이터 불러오기\n",
    "\n",
    "프롬프트로 생성된 '일반 대화' 합성 데이터와 원본 데이터가 합쳐진 파일"
   ]
  },
  {
   "cell_type": "code",
   "execution_count": 3,
   "id": "bf0c2e5d",
   "metadata": {
    "id": "b13d6792"
   },
   "outputs": [],
   "source": [
    "train_data_path =\"/aiffel/aiffel/dlthon-minions/share/data/conversations.csv\"\n",
    "train_data = pd.read_csv(train_data_path)\n",
    "# 원본 데이터 저장\n",
    "origin_data = train_data"
   ]
  },
  {
   "cell_type": "code",
   "execution_count": 4,
   "id": "b23906fc",
   "metadata": {
    "colab": {
     "base_uri": "https://localhost:8080/",
     "height": 362
    },
    "id": "960aefbc",
    "outputId": "0a63c37c-ea2e-465c-830f-f36405289505"
   },
   "outputs": [
    {
     "data": {
      "text/html": [
       "<div>\n",
       "<style scoped>\n",
       "    .dataframe tbody tr th:only-of-type {\n",
       "        vertical-align: middle;\n",
       "    }\n",
       "\n",
       "    .dataframe tbody tr th {\n",
       "        vertical-align: top;\n",
       "    }\n",
       "\n",
       "    .dataframe thead th {\n",
       "        text-align: right;\n",
       "    }\n",
       "</style>\n",
       "<table border=\"1\" class=\"dataframe\">\n",
       "  <thead>\n",
       "    <tr style=\"text-align: right;\">\n",
       "      <th></th>\n",
       "      <th>idx</th>\n",
       "      <th>class</th>\n",
       "      <th>conversation</th>\n",
       "    </tr>\n",
       "  </thead>\n",
       "  <tbody>\n",
       "    <tr>\n",
       "      <th>1903</th>\n",
       "      <td>1903</td>\n",
       "      <td>갈취 대화</td>\n",
       "      <td>부탁이 좀 있는데. 300만원만 좀 보내라.\\n말도 안 되는 소리 하지 마.\\n말도...</td>\n",
       "    </tr>\n",
       "    <tr>\n",
       "      <th>1203</th>\n",
       "      <td>1203</td>\n",
       "      <td>협박 대화</td>\n",
       "      <td>손들어\\n살려주세요\\n움직이면 죽는다\\n이러지 마세요 살려주세요\\n너의 손가락을 자...</td>\n",
       "    </tr>\n",
       "    <tr>\n",
       "      <th>4072</th>\n",
       "      <td>4072</td>\n",
       "      <td>직장 내 괴롭힘 대화</td>\n",
       "      <td>나씨 아니 내가 일이 너무 많아서 그런데 내 부탁 들어줄 수 있지?\\n 아 넵!!\\...</td>\n",
       "    </tr>\n",
       "    <tr>\n",
       "      <th>1087</th>\n",
       "      <td>1087</td>\n",
       "      <td>기타 괴롭힘 대화</td>\n",
       "      <td>야 저기 장애인봐바 웃기지않냐\\n그러게 꼽추야무슨?\\n야 내가 물한번 뿌려볼게\\n어...</td>\n",
       "    </tr>\n",
       "    <tr>\n",
       "      <th>4493</th>\n",
       "      <td>4493</td>\n",
       "      <td>갈취 대화</td>\n",
       "      <td>오! 그거 뭐야 좋은데\\n네?뭐요?\\n야 너 그신발 벗어\\n싫어 이거 내꺼야\\n벗으...</td>\n",
       "    </tr>\n",
       "    <tr>\n",
       "      <th>2479</th>\n",
       "      <td>2479</td>\n",
       "      <td>직장 내 괴롭힘 대화</td>\n",
       "      <td>씨! 자기 피아니스트야? 왜 이렇게 타자 소리가 뚱땅뚱땅 소리가 크지? 내가 일을 ...</td>\n",
       "    </tr>\n",
       "    <tr>\n",
       "      <th>1280</th>\n",
       "      <td>1280</td>\n",
       "      <td>협박 대화</td>\n",
       "      <td>이쯤에서 포기 하시죠\\n여기까지 오는데 얼마나 공을 들였는데 그럴 수 없다\\n공은 ...</td>\n",
       "    </tr>\n",
       "    <tr>\n",
       "      <th>3142</th>\n",
       "      <td>3142</td>\n",
       "      <td>갈취 대화</td>\n",
       "      <td>서준아 나 피시방 모자란대 5000원만 주라\\n 나도 내꺼 낼꺼 밖에 없는데\\n 너...</td>\n",
       "    </tr>\n",
       "    <tr>\n",
       "      <th>4265</th>\n",
       "      <td>4265</td>\n",
       "      <td>갈취 대화</td>\n",
       "      <td>친구야 너 운동화 이쁘다\\n응 이번에 엄마가 새로 사줬어\\n그거 나 며칠만 신어보고...</td>\n",
       "    </tr>\n",
       "    <tr>\n",
       "      <th>2190</th>\n",
       "      <td>2190</td>\n",
       "      <td>일반 대화</td>\n",
       "      <td>비가 그쳤네.\\n공기가 맑아졌어.\\n날씨가 추워졌어.\\n맞아, 이제 겨울이야.\\n날...</td>\n",
       "    </tr>\n",
       "  </tbody>\n",
       "</table>\n",
       "</div>"
      ],
      "text/plain": [
       "       idx        class                                       conversation\n",
       "1903  1903        갈취 대화  부탁이 좀 있는데. 300만원만 좀 보내라.\\n말도 안 되는 소리 하지 마.\\n말도...\n",
       "1203  1203        협박 대화  손들어\\n살려주세요\\n움직이면 죽는다\\n이러지 마세요 살려주세요\\n너의 손가락을 자...\n",
       "4072  4072  직장 내 괴롭힘 대화  나씨 아니 내가 일이 너무 많아서 그런데 내 부탁 들어줄 수 있지?\\n 아 넵!!\\...\n",
       "1087  1087    기타 괴롭힘 대화  야 저기 장애인봐바 웃기지않냐\\n그러게 꼽추야무슨?\\n야 내가 물한번 뿌려볼게\\n어...\n",
       "4493  4493        갈취 대화  오! 그거 뭐야 좋은데\\n네?뭐요?\\n야 너 그신발 벗어\\n싫어 이거 내꺼야\\n벗으...\n",
       "2479  2479  직장 내 괴롭힘 대화  씨! 자기 피아니스트야? 왜 이렇게 타자 소리가 뚱땅뚱땅 소리가 크지? 내가 일을 ...\n",
       "1280  1280        협박 대화  이쯤에서 포기 하시죠\\n여기까지 오는데 얼마나 공을 들였는데 그럴 수 없다\\n공은 ...\n",
       "3142  3142        갈취 대화  서준아 나 피시방 모자란대 5000원만 주라\\n 나도 내꺼 낼꺼 밖에 없는데\\n 너...\n",
       "4265  4265        갈취 대화  친구야 너 운동화 이쁘다\\n응 이번에 엄마가 새로 사줬어\\n그거 나 며칠만 신어보고...\n",
       "2190  2190        일반 대화  비가 그쳤네.\\n공기가 맑아졌어.\\n날씨가 추워졌어.\\n맞아, 이제 겨울이야.\\n날..."
      ]
     },
     "execution_count": 4,
     "metadata": {},
     "output_type": "execute_result"
    }
   ],
   "source": [
    "train_data.sample(10)"
   ]
  },
  {
   "cell_type": "code",
   "execution_count": 5,
   "id": "3ebe596f",
   "metadata": {
    "colab": {
     "base_uri": "https://localhost:8080/"
    },
    "id": "662ed8cb",
    "outputId": "bf7af049-16d1-411f-e51b-7e2388e895c9"
   },
   "outputs": [
    {
     "name": "stdout",
     "output_type": "stream",
     "text": [
      "<class 'pandas.core.frame.DataFrame'>\n",
      "RangeIndex: 4950 entries, 0 to 4949\n",
      "Data columns (total 3 columns):\n",
      " #   Column        Non-Null Count  Dtype \n",
      "---  ------        --------------  ----- \n",
      " 0   idx           4950 non-null   int64 \n",
      " 1   class         4950 non-null   object\n",
      " 2   conversation  4950 non-null   object\n",
      "dtypes: int64(1), object(2)\n",
      "memory usage: 116.1+ KB\n"
     ]
    }
   ],
   "source": [
    "train_data.info()"
   ]
  },
  {
   "cell_type": "markdown",
   "id": "aaa0f1cf",
   "metadata": {
    "id": "daad0be9"
   },
   "source": [
    "## Augmentation"
   ]
  },
  {
   "cell_type": "markdown",
   "id": "bad9ff65",
   "metadata": {
    "id": "a2dc1dd9"
   },
   "source": [
    "## 전처리"
   ]
  },
  {
   "cell_type": "markdown",
   "id": "b7978cd7",
   "metadata": {
    "id": "01b2fd43"
   },
   "source": [
    "### 기본 전처리"
   ]
  },
  {
   "cell_type": "markdown",
   "id": "9c532206",
   "metadata": {
    "id": "OYxUovemAv20"
   },
   "source": [
    "#### 중복값 여부 찾아보기"
   ]
  },
  {
   "cell_type": "code",
   "execution_count": 6,
   "id": "4ea67981",
   "metadata": {
    "colab": {
     "base_uri": "https://localhost:8080/",
     "height": 89
    },
    "id": "cB1L0F_TAi_C",
    "outputId": "b61694e1-9aab-493d-92b0-2d51a5c1a8a8"
   },
   "outputs": [
    {
     "data": {
      "text/html": [
       "<div>\n",
       "<style scoped>\n",
       "    .dataframe tbody tr th:only-of-type {\n",
       "        vertical-align: middle;\n",
       "    }\n",
       "\n",
       "    .dataframe tbody tr th {\n",
       "        vertical-align: top;\n",
       "    }\n",
       "\n",
       "    .dataframe thead th {\n",
       "        text-align: right;\n",
       "    }\n",
       "</style>\n",
       "<table border=\"1\" class=\"dataframe\">\n",
       "  <thead>\n",
       "    <tr style=\"text-align: right;\">\n",
       "      <th></th>\n",
       "      <th>idx</th>\n",
       "      <th>class</th>\n",
       "      <th>conversation</th>\n",
       "    </tr>\n",
       "  </thead>\n",
       "  <tbody>\n",
       "  </tbody>\n",
       "</table>\n",
       "</div>"
      ],
      "text/plain": [
       "Empty DataFrame\n",
       "Columns: [idx, class, conversation]\n",
       "Index: []"
      ]
     },
     "execution_count": 6,
     "metadata": {},
     "output_type": "execute_result"
    }
   ],
   "source": [
    "# 중복값 찾기\n",
    "duplicates = train_data[train_data.duplicated()]\n",
    "duplicates"
   ]
  },
  {
   "cell_type": "markdown",
   "id": "6bef38f4",
   "metadata": {},
   "source": [
    "중복값 없음"
   ]
  },
  {
   "cell_type": "markdown",
   "id": "f60592ae",
   "metadata": {
    "id": "j0pOinZUARe5"
   },
   "source": [
    "#### 결측치 여부 확인하기"
   ]
  },
  {
   "cell_type": "code",
   "execution_count": 7,
   "id": "c325ea75",
   "metadata": {
    "colab": {
     "base_uri": "https://localhost:8080/"
    },
    "id": "f5JBxYdiAMVC",
    "outputId": "e600fe25-72c4-47c4-e687-cacd5a91e6f9"
   },
   "outputs": [
    {
     "data": {
      "text/plain": [
       "idx             0\n",
       "class           0\n",
       "conversation    0\n",
       "dtype: int64"
      ]
     },
     "execution_count": 7,
     "metadata": {},
     "output_type": "execute_result"
    }
   ],
   "source": [
    "# 결측치 여부 확인하기\n",
    "train_data.isnull().sum()"
   ]
  },
  {
   "cell_type": "markdown",
   "id": "52fada5c",
   "metadata": {},
   "source": [
    "결측치 없음"
   ]
  },
  {
   "cell_type": "markdown",
   "id": "3d09c046",
   "metadata": {
    "id": "5StEP_y9HGHC"
   },
   "source": [
    "#### 클래스 컬럼 인코딩하기"
   ]
  },
  {
   "cell_type": "code",
   "execution_count": 8,
   "id": "6338f921",
   "metadata": {
    "id": "GjX684X4HDdT"
   },
   "outputs": [],
   "source": [
    "# 'class'를 'type'으로 매핑하는 딕셔너리 생성하기\n",
    "class_to_type = {\n",
    "    '협박 대화': 0,\n",
    "    '갈취 대화': 1,\n",
    "    '직장 내 괴롭힘 대화': 2,\n",
    "    '기타 괴롭힘 대화': 3,\n",
    "    '일반 대화': 4\n",
    "}"
   ]
  },
  {
   "cell_type": "code",
   "execution_count": 9,
   "id": "4d3c56ef",
   "metadata": {
    "id": "xRYGA8ftH-4V"
   },
   "outputs": [],
   "source": [
    "# 'class' 열을 기반으로 새로운 'type' 열 추가하기\n",
    "train_data['type'] = train_data['class'].map(class_to_type)"
   ]
  },
  {
   "cell_type": "code",
   "execution_count": 10,
   "id": "2e1ed539",
   "metadata": {
    "colab": {
     "base_uri": "https://localhost:8080/",
     "height": 206
    },
    "id": "EtcFaPyJIHGk",
    "outputId": "d67bb466-6612-4dd5-e289-4031489f5299"
   },
   "outputs": [
    {
     "data": {
      "text/html": [
       "<div>\n",
       "<style scoped>\n",
       "    .dataframe tbody tr th:only-of-type {\n",
       "        vertical-align: middle;\n",
       "    }\n",
       "\n",
       "    .dataframe tbody tr th {\n",
       "        vertical-align: top;\n",
       "    }\n",
       "\n",
       "    .dataframe thead th {\n",
       "        text-align: right;\n",
       "    }\n",
       "</style>\n",
       "<table border=\"1\" class=\"dataframe\">\n",
       "  <thead>\n",
       "    <tr style=\"text-align: right;\">\n",
       "      <th></th>\n",
       "      <th>idx</th>\n",
       "      <th>class</th>\n",
       "      <th>conversation</th>\n",
       "      <th>type</th>\n",
       "    </tr>\n",
       "  </thead>\n",
       "  <tbody>\n",
       "    <tr>\n",
       "      <th>0</th>\n",
       "      <td>0</td>\n",
       "      <td>일반 대화</td>\n",
       "      <td>학교 점심 뭐 나와?\\n주로 한식이 나와.\\n학원 다녀?\\n응, 영어 학원 다녀.\\...</td>\n",
       "      <td>4</td>\n",
       "    </tr>\n",
       "    <tr>\n",
       "      <th>1</th>\n",
       "      <td>1</td>\n",
       "      <td>기타 괴롭힘 대화</td>\n",
       "      <td>어이 거기 뒤뚱거리는 놈 \\n나?\\n그래 너 여기 뒤뚱거리는 놈이 너밖에 더 있냐?...</td>\n",
       "      <td>3</td>\n",
       "    </tr>\n",
       "    <tr>\n",
       "      <th>2</th>\n",
       "      <td>2</td>\n",
       "      <td>협박 대화</td>\n",
       "      <td>너 그따위로 운전하면 확 갈아마셔버린다.\\n 뭐라구?\\n 나와 이 자식아. 미안하단...</td>\n",
       "      <td>0</td>\n",
       "    </tr>\n",
       "    <tr>\n",
       "      <th>3</th>\n",
       "      <td>3</td>\n",
       "      <td>직장 내 괴롭힘 대화</td>\n",
       "      <td>길동씨 이번에 이것좀 처리해요\\n이거 제가 한게 아닌데요\\n팀에서 내가 니가가 어딨...</td>\n",
       "      <td>2</td>\n",
       "    </tr>\n",
       "    <tr>\n",
       "      <th>4</th>\n",
       "      <td>4</td>\n",
       "      <td>일반 대화</td>\n",
       "      <td>비가 많이 오네.\\n우산 가져왔어?\\n날씨가 추워졌어.\\n맞아, 이제 겨울이야.\\n...</td>\n",
       "      <td>4</td>\n",
       "    </tr>\n",
       "  </tbody>\n",
       "</table>\n",
       "</div>"
      ],
      "text/plain": [
       "   idx        class                                       conversation  type\n",
       "0    0        일반 대화  학교 점심 뭐 나와?\\n주로 한식이 나와.\\n학원 다녀?\\n응, 영어 학원 다녀.\\...     4\n",
       "1    1    기타 괴롭힘 대화  어이 거기 뒤뚱거리는 놈 \\n나?\\n그래 너 여기 뒤뚱거리는 놈이 너밖에 더 있냐?...     3\n",
       "2    2        협박 대화  너 그따위로 운전하면 확 갈아마셔버린다.\\n 뭐라구?\\n 나와 이 자식아. 미안하단...     0\n",
       "3    3  직장 내 괴롭힘 대화  길동씨 이번에 이것좀 처리해요\\n이거 제가 한게 아닌데요\\n팀에서 내가 니가가 어딨...     2\n",
       "4    4        일반 대화  비가 많이 오네.\\n우산 가져왔어?\\n날씨가 추워졌어.\\n맞아, 이제 겨울이야.\\n...     4"
      ]
     },
     "execution_count": 10,
     "metadata": {},
     "output_type": "execute_result"
    }
   ],
   "source": [
    "# type 열 추가했는지 확인하기\n",
    "train_data.head()"
   ]
  },
  {
   "cell_type": "code",
   "execution_count": 11,
   "id": "022d7c62",
   "metadata": {
    "id": "A1jo-6qkHstg"
   },
   "outputs": [
    {
     "data": {
      "text/html": [
       "<div>\n",
       "<style scoped>\n",
       "    .dataframe tbody tr th:only-of-type {\n",
       "        vertical-align: middle;\n",
       "    }\n",
       "\n",
       "    .dataframe tbody tr th {\n",
       "        vertical-align: top;\n",
       "    }\n",
       "\n",
       "    .dataframe thead th {\n",
       "        text-align: right;\n",
       "    }\n",
       "</style>\n",
       "<table border=\"1\" class=\"dataframe\">\n",
       "  <thead>\n",
       "    <tr style=\"text-align: right;\">\n",
       "      <th></th>\n",
       "      <th>conversation</th>\n",
       "      <th>type</th>\n",
       "    </tr>\n",
       "  </thead>\n",
       "  <tbody>\n",
       "    <tr>\n",
       "      <th>0</th>\n",
       "      <td>학교 점심 뭐 나와?\\n주로 한식이 나와.\\n학원 다녀?\\n응, 영어 학원 다녀.\\...</td>\n",
       "      <td>4</td>\n",
       "    </tr>\n",
       "    <tr>\n",
       "      <th>1</th>\n",
       "      <td>어이 거기 뒤뚱거리는 놈 \\n나?\\n그래 너 여기 뒤뚱거리는 놈이 너밖에 더 있냐?...</td>\n",
       "      <td>3</td>\n",
       "    </tr>\n",
       "    <tr>\n",
       "      <th>2</th>\n",
       "      <td>너 그따위로 운전하면 확 갈아마셔버린다.\\n 뭐라구?\\n 나와 이 자식아. 미안하단...</td>\n",
       "      <td>0</td>\n",
       "    </tr>\n",
       "    <tr>\n",
       "      <th>3</th>\n",
       "      <td>길동씨 이번에 이것좀 처리해요\\n이거 제가 한게 아닌데요\\n팀에서 내가 니가가 어딨...</td>\n",
       "      <td>2</td>\n",
       "    </tr>\n",
       "    <tr>\n",
       "      <th>4</th>\n",
       "      <td>비가 많이 오네.\\n우산 가져왔어?\\n날씨가 추워졌어.\\n맞아, 이제 겨울이야.\\n...</td>\n",
       "      <td>4</td>\n",
       "    </tr>\n",
       "  </tbody>\n",
       "</table>\n",
       "</div>"
      ],
      "text/plain": [
       "                                        conversation  type\n",
       "0  학교 점심 뭐 나와?\\n주로 한식이 나와.\\n학원 다녀?\\n응, 영어 학원 다녀.\\...     4\n",
       "1  어이 거기 뒤뚱거리는 놈 \\n나?\\n그래 너 여기 뒤뚱거리는 놈이 너밖에 더 있냐?...     3\n",
       "2  너 그따위로 운전하면 확 갈아마셔버린다.\\n 뭐라구?\\n 나와 이 자식아. 미안하단...     0\n",
       "3  길동씨 이번에 이것좀 처리해요\\n이거 제가 한게 아닌데요\\n팀에서 내가 니가가 어딨...     2\n",
       "4  비가 많이 오네.\\n우산 가져왔어?\\n날씨가 추워졌어.\\n맞아, 이제 겨울이야.\\n...     4"
      ]
     },
     "execution_count": 11,
     "metadata": {},
     "output_type": "execute_result"
    }
   ],
   "source": [
    "# 기존 idx, class 컬럼 삭제하기\n",
    "new_train_data = train_data.drop(['idx', 'class'], axis=1)\n",
    "# idx, class 컬럼 삭제했는지 확인하기\n",
    "new_train_data.head()"
   ]
  },
  {
   "cell_type": "code",
   "execution_count": 12,
   "id": "4e7e9da7",
   "metadata": {
    "id": "bPud0R2yIasN"
   },
   "outputs": [],
   "source": [
    "# new_train_data를 train_data에 덮어 씌우기\n",
    "train_data = new_train_data"
   ]
  },
  {
   "cell_type": "markdown",
   "id": "54a7f094",
   "metadata": {
    "id": "62e949ca"
   },
   "source": [
    "### 텍스트 전처리"
   ]
  },
  {
   "cell_type": "markdown",
   "id": "f4419937",
   "metadata": {},
   "source": [
    "#### 한글 외 문자 삭제\n",
    "한글, '?', '!', '.', '.', 공백 유지"
   ]
  },
  {
   "cell_type": "code",
   "execution_count": 13,
   "id": "2027df41",
   "metadata": {},
   "outputs": [],
   "source": [
    "# 전처리 함수\n",
    "def preprocess_sentence(sentence): \n",
    "    # \\n을 공백으로 바꾸기\n",
    "    sentence = re.sub(\"\\n\", \" \", sentence)\n",
    "    \n",
    "    # (ㄱ-ㅎ, ㅏ-ㅣ, \".\", \"?\", \"!\", \",\", ' ')를 제외한 모든 문자를 없애기\n",
    "    sentence = re.sub(\"[^ㄱ-ㅣ가-힣.?!, ]\", \"\", sentence)\n",
    "    \n",
    "    # 단어와 구두점(punctuation) 사이에 공백 추가\n",
    "    sentence = re.sub(r\"([?.!,])\", r\" \\1 \", sentence)\n",
    "    \n",
    "    return sentence"
   ]
  },
  {
   "cell_type": "code",
   "execution_count": 14,
   "id": "3937ad0d",
   "metadata": {},
   "outputs": [
    {
     "data": {
      "text/plain": [
       "0       학교 점심 뭐 나와 ?  주로 한식이 나와 .  학원 다녀 ?  응 ,  영어 학원...\n",
       "1       어이 거기 뒤뚱거리는 놈  나 ?  그래 너 여기 뒤뚱거리는 놈이 너밖에 더 있냐 ...\n",
       "2       너 그따위로 운전하면 확 갈아마셔버린다 .   뭐라구 ?   나와 이 자식아 .  ...\n",
       "3       길동씨 이번에 이것좀 처리해요 이거 제가 한게 아닌데요 팀에서 내가 니가가 어딨어 ...\n",
       "4       비가 많이 오네 .  우산 가져왔어 ?  날씨가 추워졌어 .  맞아 ,  이제 겨울...\n",
       "                              ...                        \n",
       "4945    오 깡패다 니 지금 뭐라했노 말하는것도 깡패네 닌 죽었다 시키야 어디서 건방지게 아...\n",
       "4946    이거 니 주민등록증 아니야 ?  잃어버린줄 알았는데 . 고마워 !  고맙긴 뭘 근데...\n",
       "4947    여행 준비 다 했어 ?  아직 ,  짐 싸는 중이야 .  여행 가방은 다 쌌어 ? ...\n",
       "4948    그거 사줘 안사주면 죽어버릴거야  이러지마 돈없어 나한테 해준게 뭐있어 !  !  ...\n",
       "4949    얘들아 .  이 년 몰골좀 봐 .   야 .  너 좀 씻고다녀 .  우웩 너희가 나...\n",
       "Name: preprocessed, Length: 4950, dtype: object"
      ]
     },
     "execution_count": 14,
     "metadata": {},
     "output_type": "execute_result"
    }
   ],
   "source": [
    "# 전처리 데이터 새로운 column에 저장\n",
    "train_data['preprocessed'] = train_data['conversation'].apply(preprocess_sentence)\n",
    "train_data['preprocessed']"
   ]
  },
  {
   "cell_type": "code",
   "execution_count": 15,
   "id": "25da15cd",
   "metadata": {},
   "outputs": [
    {
     "data": {
      "text/html": [
       "<div>\n",
       "<style scoped>\n",
       "    .dataframe tbody tr th:only-of-type {\n",
       "        vertical-align: middle;\n",
       "    }\n",
       "\n",
       "    .dataframe tbody tr th {\n",
       "        vertical-align: top;\n",
       "    }\n",
       "\n",
       "    .dataframe thead th {\n",
       "        text-align: right;\n",
       "    }\n",
       "</style>\n",
       "<table border=\"1\" class=\"dataframe\">\n",
       "  <thead>\n",
       "    <tr style=\"text-align: right;\">\n",
       "      <th></th>\n",
       "      <th>conversation</th>\n",
       "      <th>type</th>\n",
       "    </tr>\n",
       "  </thead>\n",
       "  <tbody>\n",
       "    <tr>\n",
       "      <th>0</th>\n",
       "      <td>학교 점심 뭐 나와 ?  주로 한식이 나와 .  학원 다녀 ?  응 ,  영어 학원...</td>\n",
       "      <td>4</td>\n",
       "    </tr>\n",
       "    <tr>\n",
       "      <th>1</th>\n",
       "      <td>어이 거기 뒤뚱거리는 놈  나 ?  그래 너 여기 뒤뚱거리는 놈이 너밖에 더 있냐 ...</td>\n",
       "      <td>3</td>\n",
       "    </tr>\n",
       "    <tr>\n",
       "      <th>2</th>\n",
       "      <td>너 그따위로 운전하면 확 갈아마셔버린다 .   뭐라구 ?   나와 이 자식아 .  ...</td>\n",
       "      <td>0</td>\n",
       "    </tr>\n",
       "    <tr>\n",
       "      <th>3</th>\n",
       "      <td>길동씨 이번에 이것좀 처리해요 이거 제가 한게 아닌데요 팀에서 내가 니가가 어딨어 ...</td>\n",
       "      <td>2</td>\n",
       "    </tr>\n",
       "    <tr>\n",
       "      <th>4</th>\n",
       "      <td>비가 많이 오네 .  우산 가져왔어 ?  날씨가 추워졌어 .  맞아 ,  이제 겨울...</td>\n",
       "      <td>4</td>\n",
       "    </tr>\n",
       "    <tr>\n",
       "      <th>...</th>\n",
       "      <td>...</td>\n",
       "      <td>...</td>\n",
       "    </tr>\n",
       "    <tr>\n",
       "      <th>4945</th>\n",
       "      <td>오 깡패다 니 지금 뭐라했노 말하는것도 깡패네 닌 죽었다 시키야 어디서 건방지게 아...</td>\n",
       "      <td>0</td>\n",
       "    </tr>\n",
       "    <tr>\n",
       "      <th>4946</th>\n",
       "      <td>이거 니 주민등록증 아니야 ?  잃어버린줄 알았는데 . 고마워 !  고맙긴 뭘 근데...</td>\n",
       "      <td>1</td>\n",
       "    </tr>\n",
       "    <tr>\n",
       "      <th>4947</th>\n",
       "      <td>여행 준비 다 했어 ?  아직 ,  짐 싸는 중이야 .  여행 가방은 다 쌌어 ? ...</td>\n",
       "      <td>4</td>\n",
       "    </tr>\n",
       "    <tr>\n",
       "      <th>4948</th>\n",
       "      <td>그거 사줘 안사주면 죽어버릴거야  이러지마 돈없어 나한테 해준게 뭐있어 !  !  ...</td>\n",
       "      <td>0</td>\n",
       "    </tr>\n",
       "    <tr>\n",
       "      <th>4949</th>\n",
       "      <td>얘들아 .  이 년 몰골좀 봐 .   야 .  너 좀 씻고다녀 .  우웩 너희가 나...</td>\n",
       "      <td>3</td>\n",
       "    </tr>\n",
       "  </tbody>\n",
       "</table>\n",
       "<p>4950 rows × 2 columns</p>\n",
       "</div>"
      ],
      "text/plain": [
       "                                           conversation  type\n",
       "0     학교 점심 뭐 나와 ?  주로 한식이 나와 .  학원 다녀 ?  응 ,  영어 학원...     4\n",
       "1     어이 거기 뒤뚱거리는 놈  나 ?  그래 너 여기 뒤뚱거리는 놈이 너밖에 더 있냐 ...     3\n",
       "2     너 그따위로 운전하면 확 갈아마셔버린다 .   뭐라구 ?   나와 이 자식아 .  ...     0\n",
       "3     길동씨 이번에 이것좀 처리해요 이거 제가 한게 아닌데요 팀에서 내가 니가가 어딨어 ...     2\n",
       "4     비가 많이 오네 .  우산 가져왔어 ?  날씨가 추워졌어 .  맞아 ,  이제 겨울...     4\n",
       "...                                                 ...   ...\n",
       "4945  오 깡패다 니 지금 뭐라했노 말하는것도 깡패네 닌 죽었다 시키야 어디서 건방지게 아...     0\n",
       "4946  이거 니 주민등록증 아니야 ?  잃어버린줄 알았는데 . 고마워 !  고맙긴 뭘 근데...     1\n",
       "4947  여행 준비 다 했어 ?  아직 ,  짐 싸는 중이야 .  여행 가방은 다 쌌어 ? ...     4\n",
       "4948  그거 사줘 안사주면 죽어버릴거야  이러지마 돈없어 나한테 해준게 뭐있어 !  !  ...     0\n",
       "4949  얘들아 .  이 년 몰골좀 봐 .   야 .  너 좀 씻고다녀 .  우웩 너희가 나...     3\n",
       "\n",
       "[4950 rows x 2 columns]"
      ]
     },
     "execution_count": 15,
     "metadata": {},
     "output_type": "execute_result"
    }
   ],
   "source": [
    "# 기존 'conversation' column 전처리한 데이터로 바꾸기\n",
    "train_data['conversation'] = train_data['preprocessed']\n",
    "train_data.drop('preprocessed', axis=1)"
   ]
  },
  {
   "cell_type": "markdown",
   "id": "205a7c26",
   "metadata": {},
   "source": [
    "#### 불용어 삭제\n",
    "[불용어 리스트 출처](https://www.ranks.nl/stopwords/korean)"
   ]
  },
  {
   "cell_type": "code",
   "execution_count": 16,
   "id": "be2b0c85",
   "metadata": {},
   "outputs": [],
   "source": [
    "# 불용어 리스트 불러오기\n",
    "stopwords_path = \"/aiffel/aiffel/dlthon-minions/share/ko_stopwords.txt\"\n",
    "with open(stopwords_path, 'r', encoding='utf-8') as file:\n",
    "    stopwords = file.read().splitlines()"
   ]
  },
  {
   "cell_type": "markdown",
   "id": "3934654c",
   "metadata": {
    "id": "f2e6fa92"
   },
   "source": [
    "#### 토큰화"
   ]
  },
  {
   "cell_type": "markdown",
   "id": "8b36d372",
   "metadata": {},
   "source": [
    "```!pip install sentencepiece```  \n",
    "```!pip install konlpy```"
   ]
  },
  {
   "cell_type": "code",
   "execution_count": 17,
   "id": "57f8a3e4",
   "metadata": {},
   "outputs": [],
   "source": [
    "# 단어사전 크기 20000으로 제한\n",
    "VOCAB_SIZE=20000"
   ]
  },
  {
   "cell_type": "markdown",
   "id": "2133b32c",
   "metadata": {},
   "source": [
    "토크나이저 선정\n",
    "1. SentencePiece  \n",
    "[ref](https://wikidocs.net/86657)"
   ]
  },
  {
   "cell_type": "code",
   "execution_count": null,
   "id": "67c29765",
   "metadata": {},
   "outputs": [],
   "source": [
    "'''# sentencePiece의 입력으로 사용하기 위해서 데이터를 txt 파일로 저장\n",
    "with open('conversations.txt', 'w', encoding='utf8') as f:\n",
    "    f.write('\\n'.join(train_data['conversation']))\n",
    "\n",
    "spm.SentencePieceTrainer.Train(\n",
    "    '--input=conversations.txt ' + \n",
    "    '--model_prefix=dktc ' +\n",
    "    f'--vocab_size={VOCAB_SIZE} ' +\n",
    "    '--model_type=bpe ' + \n",
    "    '--pad_id=0 --pad_piece=<pad> ' +\n",
    "    '--unk_id=1 --unk_piece=<unk> ' +\n",
    "    '--bos_id=2 --bos_piece=<sos> ' +\n",
    "    '--eos_id=3 --eos_piece=<eos> ' + \n",
    "    '--max_sentence_length=9999'\n",
    ")'''"
   ]
  },
  {
   "cell_type": "code",
   "execution_count": null,
   "id": "e162164f",
   "metadata": {},
   "outputs": [],
   "source": [
    "'''word_index_df = pd.read_csv('dktc.vocab', sep='\\t', header=None, quoting=csv.QUOTE_NONE)\n",
    "word_index_df.columns=['words', 'idx']\n",
    "word_index_df['idx'] = np.arrange(len(word_index_df))\n",
    "word_to_index = word_index_df.to_dict()'''"
   ]
  },
  {
   "cell_type": "code",
   "execution_count": 18,
   "id": "1a88420b",
   "metadata": {},
   "outputs": [
    {
     "data": {
      "text/plain": [
       "'word_to_index'"
      ]
     },
     "execution_count": 18,
     "metadata": {},
     "output_type": "execute_result"
    }
   ],
   "source": [
    "'''word_to_index'''"
   ]
  },
  {
   "cell_type": "markdown",
   "id": "96a73cd3",
   "metadata": {},
   "source": [
    "2. konlpy  \n",
    "1) Okt  \n",
    "2) Mecab"
   ]
  },
  {
   "cell_type": "code",
   "execution_count": 19,
   "id": "a6ecca93",
   "metadata": {},
   "outputs": [],
   "source": [
    "# Okt로 토큰화\n",
    "tokenizer=Okt()\n",
    "#tokenizer=Mecab()\n",
    "\n",
    "def tokenize(conversation, tokenizer):\n",
    "    return [token for token in tokenizer.morphs(conversation) if token not in stopwords]\n",
    "\n",
    "# 각 conversation을 토큰화하여 새로운 열 'tokenized'에 저장\n",
    "train_data['tokenized'] = train_data['conversation'].apply(lambda x: tokenize(x, tokenizer))"
   ]
  },
  {
   "cell_type": "markdown",
   "id": "c9746449",
   "metadata": {},
   "source": [
    "#### 시작 토큰, 종료 토큰 추가"
   ]
  },
  {
   "cell_type": "code",
   "execution_count": 20,
   "id": "24650edc",
   "metadata": {},
   "outputs": [],
   "source": [
    "special_tokens = ['<pad>', '<unk>', '<sos>', '<eos>']\n",
    "\n",
    "# 시작 토큰과 종료 토큰을 추가하는 함수 정의\n",
    "def add_special_tokens(tokens):\n",
    "    return [special_tokens[2]] + tokens + [special_tokens[3]]\n",
    "\n",
    "# 'tokenized' 열에 함수 적용하여 시작 토큰과 종료 토큰 추가\n",
    "train_data['tokenized'] = train_data['tokenized'].apply(add_special_tokens)"
   ]
  },
  {
   "cell_type": "code",
   "execution_count": 21,
   "id": "ae6ab3e3",
   "metadata": {},
   "outputs": [
    {
     "data": {
      "text/plain": [
       "0       [<sos>, 학교, 점심, 뭐, 나와, ?, 주로, 한식, 나와, ., 학원, 다...\n",
       "1       [<sos>, 뒤뚱거리, 는, 놈, ?, 뒤뚱거리, 는, 놈, 밖에, 더, 있냐, ...\n",
       "2       [<sos>, 그따위, 운전, 하면, 확, 갈아, 마셔, 버린다, ., 뭐라구, ?...\n",
       "3       [<sos>, 길동, 씨, 것좀, 처리, 거, 한, 게, 아닌데요, 팀, 내, 니,...\n",
       "4       [<sos>, 비, 많이, 오네, ., 우산, 가져왔어, ?, 날씨, 추워졌어, ....\n",
       "                              ...                        \n",
       "4945    [<sos>, 깡패, 다, 니, 지금, 뭐라, 했노, 말, 깡패, 닌, 죽었다, 시...\n",
       "4946    [<sos>, 거, 니, 주민, 등록증, 아니야, ?, 잃어버린줄, 알았는데, .,...\n",
       "4947    [<sos>, 여행, 준비, 다, 했어, ?, 아직, ,, 짐, 싸는, 중이, .,...\n",
       "4948    [<sos>, 그거, 사줘, 사주면, 죽어, 버릴거야, 이러지마, 돈, 없어, 한테...\n",
       "4949    [<sos>, 얘, ., 몰골, ., ., 씻고, 다녀, ., 우웩, 한테, 걸레,...\n",
       "Name: tokenized, Length: 4950, dtype: object"
      ]
     },
     "execution_count": 21,
     "metadata": {},
     "output_type": "execute_result"
    }
   ],
   "source": [
    "# 토큰화된 단어 확인\n",
    "train_data['tokenized']"
   ]
  },
  {
   "cell_type": "markdown",
   "id": "7a745f4e",
   "metadata": {},
   "source": [
    "#### 단어사전 생성"
   ]
  },
  {
   "cell_type": "code",
   "execution_count": 22,
   "id": "1c0ccfa6",
   "metadata": {},
   "outputs": [],
   "source": [
    "# 'tokenized' 열의 모든 토큰을 모아 등장 빈도 계산\n",
    "all_tokens = [token for tokens in train_data['tokenized'] for token in tokens]\n",
    "counter = Counter(all_tokens)\n",
    "# 가장 많이 등장하는 단어 vocab_size 개수만큼 남기기\n",
    "counter = counter.most_common(VOCAB_SIZE)"
   ]
  },
  {
   "cell_type": "code",
   "execution_count": 23,
   "id": "9c3dffd3",
   "metadata": {},
   "outputs": [],
   "source": [
    "# vocabulary 파일로 저장\n",
    "word_to_index_path = './vocab.txt'\n",
    "\n",
    "def save_word_index(counter):\n",
    "    with open(word_to_index_path, 'w') as f:\n",
    "        for idx, (word, _) in enumerate(counter):\n",
    "            line = f\"{word}: {idx}\\n\"\n",
    "            f.write(line)\n",
    "            \n",
    "#save_word_index(counter)"
   ]
  },
  {
   "cell_type": "code",
   "execution_count": 24,
   "id": "b8b526e6",
   "metadata": {},
   "outputs": [],
   "source": [
    "word_to_index = {token: idx for idx, token in enumerate(special_tokens[:2])}\n",
    "word_to_index.update({token: idx + len(special_tokens[:2]) for idx, (token, _) in enumerate(counter)})"
   ]
  },
  {
   "cell_type": "code",
   "execution_count": 25,
   "id": "a4f3eb03",
   "metadata": {},
   "outputs": [
    {
     "data": {
      "text/plain": [
       "{'<pad>': 0,\n",
       " '<unk>': 1,\n",
       " '.': 2,\n",
       " '?': 3,\n",
       " ',': 4,\n",
       " '<sos>': 5,\n",
       " '<eos>': 6,\n",
       " '!': 7,\n",
       " '내': 8,\n",
       " '해': 9,\n",
       " '뭐': 10,\n",
       " '는': 11,\n",
       " '도': 12,\n",
       " '좋아해': 13,\n",
       " '거': 14,\n",
       " '말': 15,\n",
       " '다': 16,\n",
       " '은': 17,\n",
       " '돈': 18,\n",
       " '친구': 19,\n",
       " '잘': 20,\n",
       " '니': 21,\n",
       " '있어': 22,\n",
       " '랑': 23,\n",
       " '요': 24,\n",
       " '영화': 25,\n",
       " '만': 26,\n",
       " '진짜': 27,\n",
       " '이야': 28,\n",
       " '정말': 29,\n",
       " '죄송합니다': 30,\n",
       " '한': 31,\n",
       " '게': 32,\n",
       " '지금': 33,\n",
       " '할': 34,\n",
       " '고': 35,\n",
       " '하고': 36,\n",
       " '한테': 37,\n",
       " '오늘': 38,\n",
       " '주로': 39,\n",
       " '님': 40,\n",
       " '주말': 41,\n",
       " '그냥': 42,\n",
       " '여행': 43,\n",
       " '돼': 44,\n",
       " '집': 45,\n",
       " '많이': 46,\n",
       " '자주': 47,\n",
       " '제발': 48,\n",
       " '가족': 49,\n",
       " '알': 50,\n",
       " '생각': 51,\n",
       " '거야': 52,\n",
       " '적': 53,\n",
       " '이랑': 54,\n",
       " '하는': 55,\n",
       " '더': 56,\n",
       " '운동': 57,\n",
       " '지': 58,\n",
       " '그렇게': 59,\n",
       " '너무': 60,\n",
       " '했어': 61,\n",
       " '빨리': 62,\n",
       " '회사': 63,\n",
       " '새끼': 64,\n",
       " '씨': 65,\n",
       " '만나': 66,\n",
       " '하면': 67,\n",
       " '아니야': 68,\n",
       " '없어': 69,\n",
       " '걸': 70,\n",
       " '수': 71,\n",
       " '애': 72,\n",
       " '면': 73,\n",
       " '줄': 74,\n",
       " '그런': 75,\n",
       " '이렇게': 76,\n",
       " '그게': 77,\n",
       " '그건': 78,\n",
       " '어제': 79,\n",
       " '서': 80,\n",
       " '이제': 81,\n",
       " '넌': 82,\n",
       " '대리': 83,\n",
       " '인데': 84,\n",
       " '사진': 85,\n",
       " '나도': 86,\n",
       " '엄마': 87,\n",
       " '아침': 88,\n",
       " '다녀': 89,\n",
       " '취미': 90,\n",
       " '부모님': 91,\n",
       " '만원': 92,\n",
       " '싶어': 93,\n",
       " '본': 94,\n",
       " '뭘': 95,\n",
       " '난': 96,\n",
       " '가서': 97,\n",
       " '하지': 98,\n",
       " '얘기': 99,\n",
       " '주': 100,\n",
       " '이야기': 101,\n",
       " '기분': 102,\n",
       " '학교': 103,\n",
       " '소리': 104,\n",
       " '일이': 105,\n",
       " '아직': 106,\n",
       " '라고': 107,\n",
       " '한번': 108,\n",
       " '전': 109,\n",
       " '니까': 110,\n",
       " '그거': 111,\n",
       " '내일': 112,\n",
       " '마다': 113,\n",
       " '보다': 114,\n",
       " '신고': 115,\n",
       " '앞': 116,\n",
       " '준비': 117,\n",
       " '해서': 118,\n",
       " '봤어': 119,\n",
       " '그러게': 120,\n",
       " '없어요': 121,\n",
       " '쳐': 122,\n",
       " '매일': 123,\n",
       " '하겠습니다': 124,\n",
       " '말씀': 125,\n",
       " '날씨': 126,\n",
       " '가고': 127,\n",
       " '김': 128,\n",
       " '들어': 129,\n",
       " '커피': 130,\n",
       " '부장': 131,\n",
       " '자네': 132,\n",
       " '좋은': 133,\n",
       " '미안해': 134,\n",
       " '요즘': 135,\n",
       " '새로운': 136,\n",
       " '다시': 137,\n",
       " '지내': 138,\n",
       " '눈': 139,\n",
       " '아닙니다': 140,\n",
       " '어머니': 141,\n",
       " '달': 142,\n",
       " '등산': 143,\n",
       " '내놔': 144,\n",
       " '선생님': 145,\n",
       " '알겠습니다': 146,\n",
       " '생활': 147,\n",
       " '시': 148,\n",
       " '사귀었어': 149,\n",
       " '인': 150,\n",
       " '같아': 151,\n",
       " '라': 152,\n",
       " '맞아': 153,\n",
       " '휴가': 154,\n",
       " '아버지': 155,\n",
       " '게임': 156,\n",
       " '학원': 157,\n",
       " '해야': 158,\n",
       " '갈': 159,\n",
       " '줘': 160,\n",
       " '같은': 161,\n",
       " '뭔': 162,\n",
       " '이나': 163,\n",
       " '비': 164,\n",
       " '말고': 165,\n",
       " '연락': 166,\n",
       " '머리': 167,\n",
       " '나와': 168,\n",
       " '죽여': 169,\n",
       " '있는': 170,\n",
       " '책': 171,\n",
       " '때문': 172,\n",
       " '점심': 173,\n",
       " '얘': 174,\n",
       " '얼굴': 175,\n",
       " '먹어': 176,\n",
       " '누가': 177,\n",
       " '아니고': 178,\n",
       " '날': 179,\n",
       " '살': 180,\n",
       " '밖에': 181,\n",
       " '저번': 182,\n",
       " '번': 183,\n",
       " '싫어': 184,\n",
       " '저녁': 185,\n",
       " '장난': 186,\n",
       " '냐': 187,\n",
       " '이건': 188,\n",
       " '건': 189,\n",
       " '과장': 190,\n",
       " '아니라': 191,\n",
       " '부탁': 192,\n",
       " '보고': 193,\n",
       " '가방': 194,\n",
       " '죠': 195,\n",
       " '알겠어': 196,\n",
       " '데': 197,\n",
       " '요리': 198,\n",
       " '감상': 199,\n",
       " '하는데': 200,\n",
       " '먹고': 201,\n",
       " '딸': 202,\n",
       " '놈': 203,\n",
       " '계속': 204,\n",
       " '팀': 205,\n",
       " '그만': 206,\n",
       " '특히': 207,\n",
       " '음악': 208,\n",
       " '꼭': 209,\n",
       " '정신': 210,\n",
       " '했는데': 211,\n",
       " '최근': 212,\n",
       " '래': 213,\n",
       " '보러': 214,\n",
       " '하루': 215,\n",
       " '찍는': 216,\n",
       " '옷': 217,\n",
       " '에요': 218,\n",
       " '사장': 219,\n",
       " '일어나': 220,\n",
       " '요가': 221,\n",
       " '작년': 222,\n",
       " '식사': 223,\n",
       " '자연': 224,\n",
       " '한식': 225,\n",
       " '즐거워': 226,\n",
       " '찍어': 227,\n",
       " '계획': 228,\n",
       " '활동': 229,\n",
       " '자꾸': 230,\n",
       " '없는': 231,\n",
       " '산책': 232,\n",
       " '그만해': 233,\n",
       " '이지': 234,\n",
       " '고객': 235,\n",
       " '제주도': 236,\n",
       " '손님': 237,\n",
       " '갑자기': 238,\n",
       " '입니다': 239,\n",
       " '칼': 240,\n",
       " '죄송해요': 241,\n",
       " '하기': 242,\n",
       " '형제자매': 243,\n",
       " '가지': 244,\n",
       " '정도': 245,\n",
       " '제대로': 246,\n",
       " '업무': 247,\n",
       " '어디서': 248,\n",
       " '에도': 249,\n",
       " '생일': 250,\n",
       " '형': 251,\n",
       " '아무': 252,\n",
       " '하라': 253,\n",
       " '오빠': 254,\n",
       " '하네': 255,\n",
       " '분': 256,\n",
       " '큰': 257,\n",
       " '거지': 258,\n",
       " '마세요': 259,\n",
       " '경찰': 260,\n",
       " '아주': 261,\n",
       " '밥': 262,\n",
       " '살려주세요': 263,\n",
       " '손': 264,\n",
       " '아들': 265,\n",
       " '마': 266,\n",
       " '입': 267,\n",
       " '해봐': 268,\n",
       " '잖아': 269,\n",
       " '냄새': 270,\n",
       " '아빠': 271,\n",
       " '개': 272,\n",
       " '밤': 273,\n",
       " '마셔': 274,\n",
       " '이라도': 275,\n",
       " '없어서': 276,\n",
       " '문제': 277,\n",
       " '직장': 278,\n",
       " '미안': 279,\n",
       " '라도': 280,\n",
       " '달라': 281,\n",
       " '돼요': 282,\n",
       " '그걸': 283,\n",
       " '음식': 284,\n",
       " '아니요': 285,\n",
       " '잘못': 286,\n",
       " '이라': 287,\n",
       " '주세요': 288,\n",
       " '번은': 289,\n",
       " '이고': 290,\n",
       " '죽': 291,\n",
       " '속': 292,\n",
       " '자식': 293,\n",
       " '없는데': 294,\n",
       " '하냐': 295,\n",
       " '가요': 296,\n",
       " '사이': 297,\n",
       " '하세요': 298,\n",
       " '끝나고': 299,\n",
       " '몰라': 300,\n",
       " '세': 301,\n",
       " '똑바로': 302,\n",
       " '아냐': 303,\n",
       " '같습니다': 304,\n",
       " '죽어': 305,\n",
       " '말로': 306,\n",
       " '환불': 307,\n",
       " '사과': 308,\n",
       " '수업': 309,\n",
       " '해야지': 310,\n",
       " '동생': 311,\n",
       " '몸': 312,\n",
       " '두': 313,\n",
       " '시험': 314,\n",
       " '건가': 315,\n",
       " '싫으면': 316,\n",
       " '있어요': 317,\n",
       " '일주일': 318,\n",
       " '있는데': 319,\n",
       " '보는': 320,\n",
       " '바람': 321,\n",
       " '뭐라고': 322,\n",
       " '하는거야': 323,\n",
       " '알아서': 324,\n",
       " '타': 325,\n",
       " '나가': 326,\n",
       " '남자': 327,\n",
       " '장님': 328,\n",
       " '약속': 329,\n",
       " '식': 330,\n",
       " '이라고': 331,\n",
       " '돼지': 332,\n",
       " '맛집': 333,\n",
       " '빌려': 334,\n",
       " '행사': 335,\n",
       " '먼저': 336,\n",
       " '거짓말': 337,\n",
       " '든': 338,\n",
       " '이에요': 339,\n",
       " '처리': 340,\n",
       " '올': 341,\n",
       " '가는': 342,\n",
       " '볼까': 343,\n",
       " '해주세요': 344,\n",
       " '같은데': 345,\n",
       " '그러세요': 346,\n",
       " '있지': 347,\n",
       " '원': 348,\n",
       " '대로': 349,\n",
       " '관광': 350,\n",
       " '탐방': 351,\n",
       " '일찍': 352,\n",
       " '과제': 353,\n",
       " '아니에요': 354,\n",
       " '어쩔': 355,\n",
       " '얼른': 356,\n",
       " '카페': 357,\n",
       " '길동': 358,\n",
       " '권': 359,\n",
       " '생신': 360,\n",
       " '해줘': 361,\n",
       " '무서워': 362,\n",
       " '나왔어': 363,\n",
       " '엔': 364,\n",
       " '박': 365,\n",
       " '따': 366,\n",
       " '쟤': 367,\n",
       " '평소': 368,\n",
       " '없습니다': 369,\n",
       " '열심히': 370,\n",
       " '했잖아': 371,\n",
       " '금요일': 372,\n",
       " '대': 373,\n",
       " '지내고': 374,\n",
       " '먹을': 375,\n",
       " '여자': 376,\n",
       " '할거야': 377,\n",
       " '버릴거야': 378,\n",
       " '하셔': 379,\n",
       " '짓': 380,\n",
       " '할게': 381,\n",
       " '계셔': 382,\n",
       " '됐고': 383,\n",
       " '재밌어': 384,\n",
       " '머': 385,\n",
       " '스트레스': 386,\n",
       " '맨날': 387,\n",
       " '조용히': 388,\n",
       " '나오면': 389,\n",
       " '읽거나': 390,\n",
       " '갈래': 391,\n",
       " '퇴근': 392,\n",
       " '이미': 393,\n",
       " '다니시고': 394,\n",
       " '필요한': 395,\n",
       " '한다고': 396,\n",
       " '소설': 397,\n",
       " '다양한': 398,\n",
       " '장르': 399,\n",
       " '하게': 400,\n",
       " '있어서': 401,\n",
       " '에는': 402,\n",
       " '도전': 403,\n",
       " '축구': 404,\n",
       " '쉬거나': 405,\n",
       " '걷는': 406,\n",
       " '다리': 407,\n",
       " '즐겨': 408,\n",
       " '매주': 409,\n",
       " '처럼': 410,\n",
       " '했지': 411,\n",
       " '리': 412,\n",
       " '짜장면': 413,\n",
       " '마음': 414,\n",
       " '운동회': 415,\n",
       " '아닌데': 416,\n",
       " '있습니다': 417,\n",
       " '힐링': 418,\n",
       " '합니다': 419,\n",
       " '자전거': 420,\n",
       " '타는': 421,\n",
       " '싶다': 422,\n",
       " '자리': 423,\n",
       " '이리': 424,\n",
       " '해도': 425,\n",
       " '직원': 426,\n",
       " '절대': 427,\n",
       " '스릴': 428,\n",
       " '중이': 429,\n",
       " '병원': 430,\n",
       " '갔어': 431,\n",
       " '이네': 432,\n",
       " '공유': 433,\n",
       " '나면': 434,\n",
       " '있었어': 435,\n",
       " '읽는': 436,\n",
       " '읽었어': 437,\n",
       " '액션': 438,\n",
       " '넘쳐서': 439,\n",
       " '팝송': 440,\n",
       " '널': 441,\n",
       " '중식': 442,\n",
       " '대신': 443,\n",
       " '아저씨': 444,\n",
       " '장애인': 445,\n",
       " '좋더라': 446,\n",
       " '공부': 447,\n",
       " '일본': 448,\n",
       " '가려고': 449,\n",
       " '짐': 450,\n",
       " '그니까': 451,\n",
       " '맞고': 452,\n",
       " '동아리': 453,\n",
       " '남자친구': 454,\n",
       " '해봤어': 455,\n",
       " '애니메이션': 456,\n",
       " '해외여행': 457,\n",
       " '가본': 458,\n",
       " '갔었어': 459,\n",
       " '쌌어': 460,\n",
       " '챙겼어': 461,\n",
       " '그림': 462,\n",
       " '풍경': 463,\n",
       " '에이': 464,\n",
       " '먹었어': 465,\n",
       " '협박': 466,\n",
       " '남': 467,\n",
       " '드라마': 468,\n",
       " '차': 469,\n",
       " '파스타': 470,\n",
       " '하는거': 471,\n",
       " '보자': 472,\n",
       " '불어': 473,\n",
       " '사정': 474,\n",
       " '유럽': 475,\n",
       " '일로': 476,\n",
       " '인셉션': 477,\n",
       " '선배': 478,\n",
       " '조깅': 479,\n",
       " '디즈니': 480,\n",
       " '러시': 481,\n",
       " '여동생': 482,\n",
       " '일하거나': 483,\n",
       " '보람': 484,\n",
       " '코미디': 485,\n",
       " '웃게': 486,\n",
       " '비빔밥': 487,\n",
       " '주면': 488,\n",
       " '소문': 489,\n",
       " '상사': 490,\n",
       " '확인': 491,\n",
       " '노력': 492,\n",
       " '교복': 493,\n",
       " '원래': 494,\n",
       " '오해': 495,\n",
       " '했습니다': 496,\n",
       " '겁니다': 497,\n",
       " '쉬었어': 498,\n",
       " '넷플릭스': 499,\n",
       " '기묘한': 500,\n",
       " '재밌었어': 501,\n",
       " '화면': 502,\n",
       " '여름': 503,\n",
       " '지갑': 504,\n",
       " '할게요': 505,\n",
       " '김치찌개': 506,\n",
       " '뒤': 507,\n",
       " '마지막': 508,\n",
       " '배워': 509,\n",
       " '좋다': 510,\n",
       " '영화관': 511,\n",
       " '피자': 512,\n",
       " '양식': 513,\n",
       " '간식': 514,\n",
       " '그리는': 515,\n",
       " '재미있어': 516,\n",
       " '찐': 517,\n",
       " '있냐': 518,\n",
       " '가져왔어': 519,\n",
       " '좋네': 520,\n",
       " '친해': 521,\n",
       " '어땠어': 522,\n",
       " '바빴지만': 523,\n",
       " '춤추는': 524,\n",
       " '풀려': 525,\n",
       " '죽겠어': 526,\n",
       " '학기': 527,\n",
       " '한다': 528,\n",
       " '건강해': 529,\n",
       " '보면': 530,\n",
       " '빌려줘': 531,\n",
       " '감동': 532,\n",
       " '말대꾸': 533,\n",
       " '척': 534,\n",
       " '가봤어': 535,\n",
       " '있나': 536,\n",
       " '꺼져': 537,\n",
       " '로맨스': 538,\n",
       " '나들이': 539,\n",
       " '세우자': 540,\n",
       " '일식': 541,\n",
       " '멀었어': 542,\n",
       " '수영': 543,\n",
       " '어렸을': 544,\n",
       " '하늘': 545,\n",
       " '않아': 546,\n",
       " '보기': 547,\n",
       " '가거나': 548,\n",
       " '추억': 549,\n",
       " '싸는': 550,\n",
       " '없이': 551,\n",
       " '과자': 552,\n",
       " '이다': 553,\n",
       " '사실': 554,\n",
       " '편해': 555,\n",
       " '쪽': 556,\n",
       " '많아': 557,\n",
       " '경관': 558,\n",
       " '목숨': 559,\n",
       " '보거나': 560,\n",
       " '없네': 561,\n",
       " '중': 562,\n",
       " '세상': 563,\n",
       " '국내': 564,\n",
       " '아름다워': 565,\n",
       " '먹을래': 566,\n",
       " '병신': 567,\n",
       " '곳': 568,\n",
       " '그래요': 569,\n",
       " '없고': 570,\n",
       " '같아요': 571,\n",
       " '담배': 572,\n",
       " '하자': 573,\n",
       " '남기려고': 574,\n",
       " '토스트': 575,\n",
       " '만났어': 576,\n",
       " '배웠어': 577,\n",
       " '알바': 578,\n",
       " '술': 579,\n",
       " '영어': 580,\n",
       " '건데': 581,\n",
       " '볼': 582,\n",
       " '공포': 583,\n",
       " '일도': 584,\n",
       " '그것': 585,\n",
       " '확': 586,\n",
       " '반': 587,\n",
       " '상쾌해져': 588,\n",
       " '수가': 589,\n",
       " '아이스크림': 590,\n",
       " '습도': 591,\n",
       " '높아': 592,\n",
       " '눅눅해져': 593,\n",
       " '모자': 594,\n",
       " '뻔했어': 595,\n",
       " '헬스장': 596,\n",
       " '마셨어': 597,\n",
       " '드릴게요': 598,\n",
       " '친절해': 599,\n",
       " '맘': 600,\n",
       " '선물': 601,\n",
       " '음료': 602,\n",
       " '과일': 603,\n",
       " '아줌마': 604,\n",
       " '일상': 605,\n",
       " '있잖아': 606,\n",
       " '될': 607,\n",
       " '눈치': 608,\n",
       " '없지': 609,\n",
       " '없으면': 610,\n",
       " '보내': 611,\n",
       " '사랑': 612,\n",
       " '오네': 613,\n",
       " '우산': 614,\n",
       " '이유': 615,\n",
       " '예요': 616,\n",
       " '와서': 617,\n",
       " '않으면': 618,\n",
       " '죽고': 619,\n",
       " '피': 620,\n",
       " '그럴': 621,\n",
       " '겨울': 622,\n",
       " '날아갈': 623,\n",
       " '맑아서': 624,\n",
       " '처음': 625,\n",
       " '하는게': 626,\n",
       " '써': 627,\n",
       " '씩': 628,\n",
       " '에어컨': 629,\n",
       " '선크림': 630,\n",
       " '더워서': 631,\n",
       " '켜야겠어': 632,\n",
       " '추워졌어': 633,\n",
       " '쓰고': 634,\n",
       " '학생': 635,\n",
       " '열정': 636,\n",
       " '발랐어': 637,\n",
       " '들고': 638,\n",
       " '실수': 639,\n",
       " '화창해': 640,\n",
       " '꼴': 641,\n",
       " '입금': 642,\n",
       " '좋게': 643,\n",
       " '끼리': 644,\n",
       " '셔': 645,\n",
       " '케이크': 646,\n",
       " '햇볕': 647,\n",
       " '따갑다': 648,\n",
       " '정리': 649,\n",
       " '미친': 650,\n",
       " '전화': 651,\n",
       " '가만히': 652,\n",
       " '안될까': 653,\n",
       " '남편': 654,\n",
       " '아닌': 655,\n",
       " '월급': 656,\n",
       " '안녕하세요': 657,\n",
       " '그러지': 658,\n",
       " '대체': 659,\n",
       " '뿐': 660,\n",
       " '디저트': 661,\n",
       " '상관': 662,\n",
       " '되네': 663,\n",
       " '바': 664,\n",
       " '나중': 665,\n",
       " '테니스': 666,\n",
       " '상황': 667,\n",
       " '되지': 668,\n",
       " '번만': 669,\n",
       " '나이': 670,\n",
       " '인생': 671,\n",
       " '완전': 672,\n",
       " '문': 673,\n",
       " '용돈': 674,\n",
       " '친절하고': 675,\n",
       " '장기': 676,\n",
       " '주제': 677,\n",
       " '기': 678,\n",
       " '배': 679,\n",
       " '인거': 680,\n",
       " '했다고': 681,\n",
       " '승진': 682,\n",
       " '물건': 683,\n",
       " '공기': 684,\n",
       " '어머': 685,\n",
       " '보고서': 686,\n",
       " '끝': 687,\n",
       " '욕': 688,\n",
       " '명': 689,\n",
       " '무시': 690,\n",
       " '가게': 691,\n",
       " '어차피': 692,\n",
       " '만은': 693,\n",
       " '나를': 694,\n",
       " '아직도': 695,\n",
       " '열': 696,\n",
       " '결혼': 697,\n",
       " '이름': 698,\n",
       " '인가': 699,\n",
       " '이러세요': 700,\n",
       " '안해': 701,\n",
       " '추운': 702,\n",
       " '벌써': 703,\n",
       " '되는': 704,\n",
       " '장': 705,\n",
       " '애가': 706,\n",
       " '되잖아': 707,\n",
       " '놔': 708,\n",
       " '버린다': 709,\n",
       " '인지': 710,\n",
       " '주시': 711,\n",
       " '보': 712,\n",
       " '그쳤네': 713,\n",
       " '맑아졌어': 714,\n",
       " '사와': 715,\n",
       " '신경': 716,\n",
       " '봐요': 717,\n",
       " '감사합니다': 718,\n",
       " '카드': 719,\n",
       " '둬': 720,\n",
       " '인사': 721,\n",
       " '흑': 722,\n",
       " '빌려주라': 723,\n",
       " '째': 724,\n",
       " '두고': 725,\n",
       " '아는': 726,\n",
       " '이러지': 727,\n",
       " '온': 728,\n",
       " '증거': 729,\n",
       " '있으면': 730,\n",
       " '아니잖아': 731,\n",
       " '께': 732,\n",
       " '입고': 733,\n",
       " '하니까': 734,\n",
       " '물': 735,\n",
       " '걱정': 736,\n",
       " '아뇨': 737,\n",
       " '돌려줘': 738,\n",
       " '약': 739,\n",
       " '됐어': 740,\n",
       " '정': 741,\n",
       " '가야': 742,\n",
       " '기회': 743,\n",
       " '가져와': 744,\n",
       " '이냐': 745,\n",
       " '있는거': 746,\n",
       " '겁': 747,\n",
       " '신': 748,\n",
       " '장사': 749,\n",
       " '별로': 750,\n",
       " '행동': 751,\n",
       " '누구세요': 752,\n",
       " '그러지마': 753,\n",
       " '없다고': 754,\n",
       " '하지말고': 755,\n",
       " '이세': 756,\n",
       " '웃기': 757,\n",
       " '힘들어': 758,\n",
       " '대학': 759,\n",
       " '드릴': 760,\n",
       " '고마워': 761,\n",
       " '없잖아': 762,\n",
       " '될까': 763,\n",
       " '회식': 764,\n",
       " '존나': 765,\n",
       " '해결': 766,\n",
       " '가봐': 767,\n",
       " '죄': 768,\n",
       " '신입': 769,\n",
       " '하시면': 770,\n",
       " '도대체': 771,\n",
       " '옆': 772,\n",
       " '야근': 773,\n",
       " '가만': 774,\n",
       " '빵': 775,\n",
       " '뒤져서': 776,\n",
       " '간': 777,\n",
       " '부모': 778,\n",
       " '연차': 779,\n",
       " '다음주': 780,\n",
       " '그런거': 781,\n",
       " '번호': 782,\n",
       " '싶지': 783,\n",
       " '받고': 784,\n",
       " '영상': 785,\n",
       " '핸드폰': 786,\n",
       " '교육': 787,\n",
       " '주고': 788,\n",
       " '대화': 789,\n",
       " '이면': 790,\n",
       " '쓰레기': 791,\n",
       " '저리': 792,\n",
       " '아가씨': 793,\n",
       " '없다': 794,\n",
       " '길': 795,\n",
       " '라는': 796,\n",
       " '하려고': 797,\n",
       " '능력': 798,\n",
       " '있다고': 799,\n",
       " '기억': 800,\n",
       " '새': 801,\n",
       " '된': 802,\n",
       " '하니': 803,\n",
       " '어딨어': 804,\n",
       " '꺼': 805,\n",
       " '그러냐': 806,\n",
       " '기다려': 807,\n",
       " '음': 808,\n",
       " '가면': 809,\n",
       " '했다': 810,\n",
       " '손가락': 811,\n",
       " '개인': 812,\n",
       " '먹으면': 813,\n",
       " '살려줘': 814,\n",
       " '피해': 815,\n",
       " '이래서': 816,\n",
       " '수도': 817,\n",
       " '주머니': 818,\n",
       " '받아': 819,\n",
       " '하시는': 820,\n",
       " '하잖아': 821,\n",
       " '아니지': 822,\n",
       " '봐도': 823,\n",
       " '테': 824,\n",
       " '신발': 825,\n",
       " '여보': 826,\n",
       " '인턴': 827,\n",
       " '현금': 828,\n",
       " '되면': 829,\n",
       " '그런게': 830,\n",
       " '불': 831,\n",
       " '폰': 832,\n",
       " '갖고': 833,\n",
       " '평생': 834,\n",
       " '요새': 835,\n",
       " '대답': 836,\n",
       " '최대한': 837,\n",
       " '부분': 838,\n",
       " '보여': 839,\n",
       " '언니': 840,\n",
       " '어서': 841,\n",
       " '보지': 842,\n",
       " '방법': 843,\n",
       " '할머니': 844,\n",
       " '없는데요': 845,\n",
       " '이러면': 846,\n",
       " '미리': 847,\n",
       " '점': 848,\n",
       " '아무리': 849,\n",
       " '간다': 850,\n",
       " '다야': 851,\n",
       " '싶으면': 852,\n",
       " '수정': 853,\n",
       " '값': 854,\n",
       " '프로젝트': 855,\n",
       " '안보': 856,\n",
       " '어휴': 857,\n",
       " '아까': 858,\n",
       " '되게': 859,\n",
       " '새로': 860,\n",
       " '아파': 861,\n",
       " '봤는데': 862,\n",
       " '엄청': 863,\n",
       " '가자': 864,\n",
       " '했냐': 865,\n",
       " '알겠어요': 866,\n",
       " '신지': 867,\n",
       " '께서': 868,\n",
       " '가라': 869,\n",
       " '마무리': 870,\n",
       " '오랜': 871,\n",
       " '여자친구': 872,\n",
       " '대가리': 873,\n",
       " '형님': 874,\n",
       " '미쳤어': 875,\n",
       " '그러는거야': 876,\n",
       " '그치': 877,\n",
       " '같아서': 878,\n",
       " '발': 879,\n",
       " '필요': 880,\n",
       " '버리고': 881,\n",
       " '아닌가': 882,\n",
       " '위': 883,\n",
       " '이딴': 884,\n",
       " '운전': 885,\n",
       " '임마': 886,\n",
       " '드리겠습니다': 887,\n",
       " '총': 888,\n",
       " '어머님': 889,\n",
       " '역시': 890,\n",
       " '안되는': 891,\n",
       " '안녕': 892,\n",
       " '내려': 893,\n",
       " '보니': 894,\n",
       " '사원': 895,\n",
       " '누나': 896,\n",
       " '배달': 897,\n",
       " '자료': 898,\n",
       " '돈좀': 899,\n",
       " '모르는': 900,\n",
       " '서류': 901,\n",
       " '출근': 902,\n",
       " '별': 903,\n",
       " '죄송하면': 904,\n",
       " '계좌': 905,\n",
       " '있고': 906,\n",
       " '사용': 907,\n",
       " '한거야': 908,\n",
       " '회의': 909,\n",
       " '안됩니다': 910,\n",
       " '해줄게': 911,\n",
       " '네네': 912,\n",
       " '항상': 913,\n",
       " '넵': 914,\n",
       " '없나': 915,\n",
       " '싶어서': 916,\n",
       " '생긴': 917,\n",
       " '싫은데': 918,\n",
       " '글': 919,\n",
       " '잔': 920,\n",
       " '여보세요': 921,\n",
       " '화장실': 922,\n",
       " '아닌가요': 923,\n",
       " '시작': 924,\n",
       " '주임': 925,\n",
       " '받은': 926,\n",
       " '시키는': 927,\n",
       " '다시는': 928,\n",
       " '사고': 929,\n",
       " '준': 930,\n",
       " '야야': 931,\n",
       " '싫어요': 932,\n",
       " '제일': 933,\n",
       " '하신': 934,\n",
       " '인정': 935,\n",
       " '말아줘': 936,\n",
       " '솔직히': 937,\n",
       " '싶냐': 938,\n",
       " '이러지마': 939,\n",
       " '인가요': 940,\n",
       " '작성': 941,\n",
       " '금방': 942,\n",
       " '맛': 943,\n",
       " '거리': 944,\n",
       " '소': 945,\n",
       " '잖아요': 946,\n",
       " '성적': 947,\n",
       " '안되는데': 948,\n",
       " '괜찮아': 949,\n",
       " '똑같이': 950,\n",
       " '해라': 951,\n",
       " '라면': 952,\n",
       " '뭔가': 953,\n",
       " '서로': 954,\n",
       " '봐주세요': 955,\n",
       " '억': 956,\n",
       " '니야': 957,\n",
       " '지랄': 958,\n",
       " '표정': 959,\n",
       " '누군지': 960,\n",
       " '데리': 961,\n",
       " '했나': 962,\n",
       " '통': 963,\n",
       " '방금': 964,\n",
       " '있을': 965,\n",
       " '봐야': 966,\n",
       " '정보': 967,\n",
       " '있네': 968,\n",
       " '듣고': 969,\n",
       " '때려': 970,\n",
       " '라서': 971,\n",
       " '그러고': 972,\n",
       " '고생': 973,\n",
       " '오면': 974,\n",
       " '어떻': 975,\n",
       " '시계': 976,\n",
       " '리가': 977,\n",
       " '생겨서': 978,\n",
       " '직접': 979,\n",
       " '만이': 980,\n",
       " '바보': 981,\n",
       " '부서': 982,\n",
       " '편하게': 983,\n",
       " '으': 984,\n",
       " '중요한': 985,\n",
       " '우린': 986,\n",
       " '만들어': 987,\n",
       " '보네': 988,\n",
       " '되는데': 989,\n",
       " '그러는데': 990,\n",
       " '죄송하지만': 991,\n",
       " '불러': 992,\n",
       " '빼': 993,\n",
       " '목소리': 994,\n",
       " '할까': 995,\n",
       " '상': 996,\n",
       " '말아주세요': 997,\n",
       " '쓰면': 998,\n",
       " '있나요': 999,\n",
       " ...}"
      ]
     },
     "execution_count": 25,
     "metadata": {},
     "output_type": "execute_result"
    }
   ],
   "source": [
    "word_to_index"
   ]
  },
  {
   "cell_type": "markdown",
   "id": "d4234ec3",
   "metadata": {},
   "source": [
    "#### 정수인코딩"
   ]
  },
  {
   "cell_type": "code",
   "execution_count": 26,
   "id": "69a4d527",
   "metadata": {},
   "outputs": [],
   "source": [
    "# 'tokenized' 열의 데이터를 정수 인코딩\n",
    "def encode_tokens(tokens, word_to_index):\n",
    "    unk_index = word_to_index['<unk>']\n",
    "    return [word_to_index.get(token, unk_index) for token in tokens]\n",
    "\n",
    "train_data['encoded'] = train_data['tokenized'].apply(lambda x: encode_tokens(x, word_to_index))"
   ]
  },
  {
   "cell_type": "code",
   "execution_count": 27,
   "id": "ffda3aec",
   "metadata": {
    "scrolled": true
   },
   "outputs": [
    {
     "data": {
      "text/html": [
       "<div>\n",
       "<style scoped>\n",
       "    .dataframe tbody tr th:only-of-type {\n",
       "        vertical-align: middle;\n",
       "    }\n",
       "\n",
       "    .dataframe tbody tr th {\n",
       "        vertical-align: top;\n",
       "    }\n",
       "\n",
       "    .dataframe thead th {\n",
       "        text-align: right;\n",
       "    }\n",
       "</style>\n",
       "<table border=\"1\" class=\"dataframe\">\n",
       "  <thead>\n",
       "    <tr style=\"text-align: right;\">\n",
       "      <th></th>\n",
       "      <th>conversation</th>\n",
       "      <th>type</th>\n",
       "      <th>preprocessed</th>\n",
       "      <th>tokenized</th>\n",
       "      <th>encoded</th>\n",
       "    </tr>\n",
       "  </thead>\n",
       "  <tbody>\n",
       "    <tr>\n",
       "      <th>1584</th>\n",
       "      <td>김대리 휴가 신청했나 ?  네 과장님 이번에 바이어 접대해야하니까 휴가 다음에 가지...</td>\n",
       "      <td>2</td>\n",
       "      <td>김대리 휴가 신청했나 ?  네 과장님 이번에 바이어 접대해야하니까 휴가 다음에 가지...</td>\n",
       "      <td>[&lt;sos&gt;, 김, 대리, 휴가, 신청, 했나, ?, 과장, 님, 바이어, 접대, ...</td>\n",
       "      <td>[5, 128, 83, 154, 2418, 962, 3, 190, 40, 10193...</td>\n",
       "    </tr>\n",
       "    <tr>\n",
       "      <th>1301</th>\n",
       "      <td>야 니가 나에 대해 이상한 소문 내고 다닌다면서 ?   너에 대해 이야기 한적 없어...</td>\n",
       "      <td>0</td>\n",
       "      <td>야 니가 나에 대해 이상한 소문 내고 다닌다면서 ?   너에 대해 이야기 한적 없어...</td>\n",
       "      <td>[&lt;sos&gt;, 니, 대해, 이상한, 소문, 내고, 다닌다면서, ?, 대해, 이야기,...</td>\n",
       "      <td>[5, 21, 1258, 1070, 489, 1048, 16082, 3, 1258,...</td>\n",
       "    </tr>\n",
       "    <tr>\n",
       "      <th>93</th>\n",
       "      <td>야 너 돈 있지 좀 빌려줘라  안돼 .  나 이거 집에 갈 차비야  뭐가 안된다는 ...</td>\n",
       "      <td>1</td>\n",
       "      <td>야 너 돈 있지 좀 빌려줘라  안돼 .  나 이거 집에 갈 차비야  뭐가 안된다는 ...</td>\n",
       "      <td>[&lt;sos&gt;, 돈, 있지, 빌려줘라, 돼, ., 거, 집, 갈, 차비, 뭐, 안된다...</td>\n",
       "      <td>[5, 18, 347, 2076, 44, 2, 14, 45, 159, 1209, 1...</td>\n",
       "    </tr>\n",
       "  </tbody>\n",
       "</table>\n",
       "</div>"
      ],
      "text/plain": [
       "                                           conversation  type  \\\n",
       "1584  김대리 휴가 신청했나 ?  네 과장님 이번에 바이어 접대해야하니까 휴가 다음에 가지...     2   \n",
       "1301  야 니가 나에 대해 이상한 소문 내고 다닌다면서 ?   너에 대해 이야기 한적 없어...     0   \n",
       "93    야 너 돈 있지 좀 빌려줘라  안돼 .  나 이거 집에 갈 차비야  뭐가 안된다는 ...     1   \n",
       "\n",
       "                                           preprocessed  \\\n",
       "1584  김대리 휴가 신청했나 ?  네 과장님 이번에 바이어 접대해야하니까 휴가 다음에 가지...   \n",
       "1301  야 니가 나에 대해 이상한 소문 내고 다닌다면서 ?   너에 대해 이야기 한적 없어...   \n",
       "93    야 너 돈 있지 좀 빌려줘라  안돼 .  나 이거 집에 갈 차비야  뭐가 안된다는 ...   \n",
       "\n",
       "                                              tokenized  \\\n",
       "1584  [<sos>, 김, 대리, 휴가, 신청, 했나, ?, 과장, 님, 바이어, 접대, ...   \n",
       "1301  [<sos>, 니, 대해, 이상한, 소문, 내고, 다닌다면서, ?, 대해, 이야기,...   \n",
       "93    [<sos>, 돈, 있지, 빌려줘라, 돼, ., 거, 집, 갈, 차비, 뭐, 안된다...   \n",
       "\n",
       "                                                encoded  \n",
       "1584  [5, 128, 83, 154, 2418, 962, 3, 190, 40, 10193...  \n",
       "1301  [5, 21, 1258, 1070, 489, 1048, 16082, 3, 1258,...  \n",
       "93    [5, 18, 347, 2076, 44, 2, 14, 45, 159, 1209, 1...  "
      ]
     },
     "execution_count": 27,
     "metadata": {},
     "output_type": "execute_result"
    }
   ],
   "source": [
    "train_data.sample(3)"
   ]
  },
  {
   "cell_type": "markdown",
   "id": "299beb86",
   "metadata": {
    "id": "e970c394"
   },
   "source": [
    "## 전처리 후 분석"
   ]
  },
  {
   "cell_type": "markdown",
   "id": "ab8bfab6",
   "metadata": {},
   "source": [
    "#### 토큰화된 데이터 길이 확인"
   ]
  },
  {
   "cell_type": "code",
   "execution_count": 28,
   "id": "e1b9fc2a",
   "metadata": {},
   "outputs": [
    {
     "name": "stdout",
     "output_type": "stream",
     "text": [
      "최대 길이: 305\n",
      "최소 길이: 13\n",
      "평균 길이: 76.31515151515151\n",
      "표준편차: 31.087848215261783\n"
     ]
    },
    {
     "data": {
      "image/png": "[encoded data removed]",
      "text/plain": [
       "<Figure size 432x288 with 1 Axes>"
      ]
     },
     "metadata": {
      "needs_background": "light"
     },
     "output_type": "display_data"
    }
   ],
   "source": [
    "# 'encoded' 열의 각 리스트의 길이 계산\n",
    "lengths = train_data['encoded'].apply(len)\n",
    "\n",
    "print(f\"최대 길이: {lengths.max()}\")\n",
    "print(f\"최소 길이: {lengths.min()}\")\n",
    "print(f\"평균 길이: {lengths.mean()}\")\n",
    "print(f\"표준편차: {lengths.std()}\")\n",
    "\n",
    "# 길이 분포 시각화\n",
    "plt.hist(lengths, bins=50, color='skyblue')\n",
    "plt.show()"
   ]
  },
  {
   "cell_type": "markdown",
   "id": "a9fd09fe",
   "metadata": {},
   "source": [
    "#### 패딩 적용"
   ]
  },
  {
   "cell_type": "code",
   "execution_count": 29,
   "id": "0652a638",
   "metadata": {},
   "outputs": [],
   "source": [
    "# 대화 최대 길이 150으로 설정\n",
    "MAX_LENGTH = 150"
   ]
  },
  {
   "cell_type": "code",
   "execution_count": 30,
   "id": "536ba18e",
   "metadata": {},
   "outputs": [],
   "source": [
    "X = pad_sequences(train_data['encoded'], maxlen=MAX_LENGTH, padding='post', truncating='post')"
   ]
  },
  {
   "cell_type": "markdown",
   "id": "accfbf25",
   "metadata": {
    "id": "0b636ead"
   },
   "source": [
    "## 데이터 분할"
   ]
  },
  {
   "cell_type": "code",
   "execution_count": 31,
   "id": "a795fbb7",
   "metadata": {},
   "outputs": [
    {
     "name": "stdout",
     "output_type": "stream",
     "text": [
      "훈련 데이터의 개수 : 3960\n",
      "훈련 레이블의 개수 : 3960\n",
      "검증 데이터의 개수 : 495\n",
      "검증 레이블의 개수 : 495\n",
      "테스트 데이터의 개수 : 495\n",
      "테스트 레이블의 개수 : 495\n"
     ]
    }
   ],
   "source": [
    "y = train_data['type']\n",
    "\n",
    "X_train, X_val, y_train, y_val = train_test_split(X, y, test_size=0.2, shuffle=True, random_state=42)\n",
    "X_val, X_test, y_val, y_test = train_test_split(X_val, y_val, test_size=0.5, shuffle=True, random_state=42)\n",
    "\n",
    "print('훈련 데이터의 개수 :', len(X_train))\n",
    "print('훈련 레이블의 개수 :', len(y_train))\n",
    "print('검증 데이터의 개수 :', len(X_val))\n",
    "print('검증 레이블의 개수 :', len(y_val))\n",
    "print('테스트 데이터의 개수 :', len(X_test))\n",
    "print('테스트 레이블의 개수 :', len(y_test))"
   ]
  },
  {
   "cell_type": "markdown",
   "id": "b3b82441",
   "metadata": {},
   "source": [
    "# 모델링"
   ]
  },
  {
   "cell_type": "code",
   "execution_count": 32,
   "id": "2f0344e9",
   "metadata": {},
   "outputs": [
    {
     "name": "stdout",
     "output_type": "stream",
     "text": [
      "Collecting wandb==0.16.0\n",
      "  Downloading wandb-0.16.0-py3-none-any.whl (2.1 MB)\n",
      "     |████████████████████████████████| 2.1 MB 4.5 MB/s            \n",
      "\u001b[?25hRequirement already satisfied: protobuf!=4.21.0,<5,>=3.15.0 in /opt/conda/lib/python3.9/site-packages (from wandb==0.16.0) (3.19.1)\n",
      "Collecting docker-pycreds>=0.4.0\n",
      "  Downloading docker_pycreds-0.4.0-py2.py3-none-any.whl (9.0 kB)\n",
      "Requirement already satisfied: setuptools in /opt/conda/lib/python3.9/site-packages (from wandb==0.16.0) (59.4.0)\n",
      "Collecting GitPython!=3.1.29,>=1.0.0\n",
      "  Downloading GitPython-3.1.43-py3-none-any.whl (207 kB)\n",
      "     |████████████████████████████████| 207 kB 62.4 MB/s            \n",
      "\u001b[?25hRequirement already satisfied: PyYAML in /opt/conda/lib/python3.9/site-packages (from wandb==0.16.0) (6.0)\n",
      "Requirement already satisfied: Click!=8.0.0,>=7.1 in /opt/conda/lib/python3.9/site-packages (from wandb==0.16.0) (8.0.3)\n",
      "Requirement already satisfied: typing-extensions in /opt/conda/lib/python3.9/site-packages (from wandb==0.16.0) (4.0.1)\n",
      "Requirement already satisfied: psutil>=5.0.0 in /opt/conda/lib/python3.9/site-packages (from wandb==0.16.0) (5.8.0)\n",
      "Collecting sentry-sdk>=1.0.0\n",
      "  Downloading sentry_sdk-2.6.0-py2.py3-none-any.whl (296 kB)\n",
      "     |████████████████████████████████| 296 kB 67.2 MB/s            \n",
      "\u001b[?25hRequirement already satisfied: appdirs>=1.4.3 in /opt/conda/lib/python3.9/site-packages (from wandb==0.16.0) (1.4.4)\n",
      "Collecting setproctitle\n",
      "  Downloading setproctitle-1.3.3-cp39-cp39-manylinux_2_5_x86_64.manylinux1_x86_64.manylinux_2_17_x86_64.manylinux2014_x86_64.whl (30 kB)\n",
      "Requirement already satisfied: requests<3,>=2.0.0 in /opt/conda/lib/python3.9/site-packages (from wandb==0.16.0) (2.26.0)\n",
      "Requirement already satisfied: six>=1.4.0 in /opt/conda/lib/python3.9/site-packages (from docker-pycreds>=0.4.0->wandb==0.16.0) (1.16.0)\n",
      "Collecting gitdb<5,>=4.0.1\n",
      "  Downloading gitdb-4.0.11-py3-none-any.whl (62 kB)\n",
      "     |████████████████████████████████| 62 kB 1.9 MB/s             \n",
      "\u001b[?25hRequirement already satisfied: idna<4,>=2.5 in /opt/conda/lib/python3.9/site-packages (from requests<3,>=2.0.0->wandb==0.16.0) (2.10)\n",
      "Requirement already satisfied: certifi>=2017.4.17 in /opt/conda/lib/python3.9/site-packages (from requests<3,>=2.0.0->wandb==0.16.0) (2021.10.8)\n",
      "Requirement already satisfied: charset-normalizer~=2.0.0 in /opt/conda/lib/python3.9/site-packages (from requests<3,>=2.0.0->wandb==0.16.0) (2.0.8)\n",
      "Requirement already satisfied: urllib3<1.27,>=1.21.1 in /opt/conda/lib/python3.9/site-packages (from requests<3,>=2.0.0->wandb==0.16.0) (1.26.7)\n",
      "Collecting urllib3<1.27,>=1.21.1\n",
      "  Downloading urllib3-1.26.19-py2.py3-none-any.whl (143 kB)\n",
      "     |████████████████████████████████| 143 kB 93.0 MB/s            \n",
      "\u001b[?25hCollecting smmap<6,>=3.0.1\n",
      "  Downloading smmap-5.0.1-py3-none-any.whl (24 kB)\n",
      "Installing collected packages: smmap, urllib3, gitdb, setproctitle, sentry-sdk, GitPython, docker-pycreds, wandb\n",
      "  Attempting uninstall: urllib3\n",
      "    Found existing installation: urllib3 1.26.7\n",
      "    Uninstalling urllib3-1.26.7:\n",
      "      Successfully uninstalled urllib3-1.26.7\n",
      "Successfully installed GitPython-3.1.43 docker-pycreds-0.4.0 gitdb-4.0.11 sentry-sdk-2.6.0 setproctitle-1.3.3 smmap-5.0.1 urllib3-1.26.19 wandb-0.16.0\n",
      "\u001b[33mWARNING: Running pip as the 'root' user can result in broken permissions and conflicting behaviour with the system package manager. It is recommended to use a virtual environment instead: https://pip.pypa.io/warnings/venv\u001b[0m\n"
     ]
    }
   ],
   "source": [
    "!pip install wandb==0.16.0"
   ]
  },
  {
   "cell_type": "code",
   "execution_count": 33,
   "id": "f152b5d2",
   "metadata": {},
   "outputs": [
    {
     "name": "stderr",
     "output_type": "stream",
     "text": [
      "\u001b[34m\u001b[1mwandb\u001b[0m: W&B API key is configured. Use \u001b[1m`wandb login --relogin`\u001b[0m to force relogin\n",
      "\u001b[34m\u001b[1mwandb\u001b[0m: \u001b[33mWARNING\u001b[0m If you're specifying your api key in code, ensure this code is not shared publicly.\n",
      "\u001b[34m\u001b[1mwandb\u001b[0m: \u001b[33mWARNING\u001b[0m Consider setting the WANDB_API_KEY environment variable, or running `wandb login` from the command line.\n",
      "\u001b[34m\u001b[1mwandb\u001b[0m: Appending key for api.wandb.ai to your netrc file: /aiffel/.netrc\n"
     ]
    },
    {
     "data": {
      "text/plain": [
       "True"
      ]
     },
     "execution_count": 33,
     "metadata": {},
     "output_type": "execute_result"
    }
   ],
   "source": [
    "import wandb\n",
    "\n",
    "wandb.login(key = '809618c39f10bc0019fd6fd710cb28c698c30197')"
   ]
  },
  {
   "cell_type": "code",
   "execution_count": 34,
   "id": "4d494591",
   "metadata": {},
   "outputs": [],
   "source": [
    "sweep_config = {\n",
    "    \"name\": \"sweep_test_nlp\",\n",
    "    \"metric\": {\"name\": \"val_loss\", \"goal\": \"minimize\"},\n",
    "    \"method\": \"random\",\n",
    "    \"parameters\": {\n",
    "        \"learning_rate\" : {\n",
    "            \"min\" : 0.001,\n",
    "            \"max\" : 0.1\n",
    "            },\n",
    "        \"epoch\" : {\n",
    "            \"distribution\" : \"int_uniform\",\n",
    "            \"min\" : 5,\n",
    "            \"max\" : 10\n",
    "            },\n",
    "        \"batch_size\": {\n",
    "            \"values\": [16, 32, 64]\n",
    "            },\n",
    "        \"optimizer\": {\n",
    "            \"values\": [\"adam\", \"rmsprop\"]\n",
    "            },\n",
    "        \"dropout_rate\":{\n",
    "            \"values\": [0.1, 0.2, 0.3]\n",
    "        }\n",
    "        }\n",
    "    }\n",
    "\n",
    "default_config = {\n",
    "        \"vocab\" : VOCAB_SIZE,\n",
    "        \"embeddings\" : 128,\n",
    "        \"units_128\" : 128,\n",
    "        \"units_256\" : 256,\n",
    "        \"units_512\" : 512,\n",
    "        \"units_1024\" : 1024,\n",
    "        \"units_2048\" : 2048,\n",
    "        \"kernel_3\" : 3,\n",
    "        \"kernel_5\" : 5,\n",
    "        \"class_num\" : 5,\n",
    "        \"loss\" : \"sparse_categorical_crossentropy\",\n",
    "        \"metrics\" : [\"accuracy\"],\n",
    "    }"
   ]
  },
  {
   "cell_type": "code",
   "execution_count": 35,
   "id": "d99f5993",
   "metadata": {},
   "outputs": [],
   "source": [
    "def build_model_baseline(config):\n",
    "    model=keras.models.Sequential()\n",
    "    model.add(keras.layers.Embedding(config.vocab, config.embeddings))\n",
    "    model.add(keras.layers.GRU(units = config.units_256, return_sequences = True))\n",
    "    model.add(keras.layers.GRU(units = config.units_512))\n",
    "    model.add(keras.layers.Dense(config.units_1024, activation='relu'))\n",
    "    model.add(keras.layers.Dense(config.class_num, activation='softmax'))  \n",
    "    return model"
   ]
  },
  {
   "cell_type": "code",
   "execution_count": 36,
   "id": "afc3d990",
   "metadata": {},
   "outputs": [],
   "source": [
    "def build_model_1DCNN(config):\n",
    "    model = keras.models.Sequential()\n",
    "    model.add(keras.layers.Embedding(config.vocab, config.embeddings))\n",
    "    model.add(keras.layers.Conv1D(config.embeddings, config.kernel_5, activation='relu'))\n",
    "    model.add(keras.layers.MaxPooling1D(pool_size=4))\n",
    "    model.add(keras.layers.GlobalMaxPooling1D())\n",
    "    model.add(keras.layers.Dense(config.units_128, activation='relu'))\n",
    "    model.add(keras.layers.Dense(config.class_num, activation='softmax')) \n",
    "    return model"
   ]
  },
  {
   "cell_type": "code",
   "execution_count": 37,
   "id": "cbb09000",
   "metadata": {},
   "outputs": [],
   "source": [
    "def build_model_1DCNN_GRU(config):\n",
    "    model = keras.models.Sequential()\n",
    "    model.add(keras.layers.Embedding(config.vocab, config.embeddings))\n",
    "    model.add(keras.layers.SpatialDropout1D(config.dropout_rate))\n",
    "    model.add(keras.layers.Conv1D(config.embeddings, config.kernel_5, activation='relu'))\n",
    "    model.add(keras.layers.MaxPooling1D(pool_size=4))\n",
    "    model.add(keras.layers.GRU(config.units_128, dropout=config.dropout_rate, recurrent_dropout=config.dropout_rate))\n",
    "    model.add(keras.layers.Dense(config.class_num, activation='softmax'))\n",
    "    return model"
   ]
  },
  {
   "cell_type": "code",
   "execution_count": 38,
   "id": "a20e59f3",
   "metadata": {},
   "outputs": [],
   "source": [
    "import numpy as np\n",
    "import matplotlib.pyplot as plt\n",
    "import seaborn as sns\n",
    "from tensorflow import keras\n",
    "import wandb\n",
    "\n",
    "# heatmap으로 비교 결과를 그려주는 함수\n",
    "def plot_table(cm):\n",
    "    title = \"Overall Prediction Result\"\n",
    "    # 실제 클래스명으로 변환\n",
    "    classes = [\n",
    "        '협박 대화',\n",
    "        '갈취 대화',\n",
    "        '직장 내 괴롭힘 대화',\n",
    "        '기타 괴롭힘 대화',\n",
    "        '일반 대화'\n",
    "    ]\n",
    "    plt.figure(figsize=(10, 7))\n",
    "    sns.heatmap(cm, annot=True, fmt=\"d\", cmap=\"Blues\", xticklabels=classes, yticklabels=classes, annot_kws={'size': 30})\n",
    "    plt.xlabel('Predicted')\n",
    "    plt.ylabel('Actual')\n",
    "    plt.title(title)\n",
    "    return plt\n",
    "\n",
    "# epoch이 모두 끝나면 각 클래스별 GT와 예측값을 비교한 표 시각화\n",
    "# 5x5의 표의 [i,j]의 위치는 실제값은 i번째 클래스이고, 예측값은 j번째 클래스임을 나타냄\n",
    "class CompareResultsCallback(keras.callbacks.Callback):\n",
    "    def __init__(self, X_test, y_test, class_num):\n",
    "        super().__init__()\n",
    "        self.X_test = X_test\n",
    "        self.y_test = y_test\n",
    "        self.class_num = class_num\n",
    "        # 전체 표 초기화\n",
    "        self.table = np.zeros((self.class_num, self.class_num), dtype=np.int32)\n",
    "\n",
    "    def on_epoch_end(self, epoch, logs=None):\n",
    "        # 마지막 epoch에서만 계산\n",
    "        if epoch == self.params['epochs'] - 1:  \n",
    "            pred_test = self.model.predict(self.X_test).argmax(axis=1)\n",
    "            self.y_test = np.array(self.y_test)\n",
    "            pred_test = np.array(pred_test)\n",
    "            \n",
    "            # 5개의 클래스에서 두 개씩 뽑아내어 비교\n",
    "            # 실제값이 class_a일 때, 예측값을 claas_b로 예측한 횟수\n",
    "            for class_a in range(self.class_num):\n",
    "                for class_b in range(self.class_num):\n",
    "                    num = len(np.where((self.y_test == class_a) & (pred_test == class_b))[0])\n",
    "                    self.table[class_a, class_b] += num\n",
    "\n",
    "            # 표 그리기\n",
    "            cm_plot = plot_table(self.table)\n",
    "            \n",
    "            # wandb에 로그로 저장\n",
    "            cm_image = wandb.Image(cm_plot)\n",
    "            wandb.log({\"Overall Prediction Result\": cm_image})\n"
   ]
  },
  {
   "cell_type": "code",
   "execution_count": 39,
   "id": "734cf58a",
   "metadata": {},
   "outputs": [],
   "source": [
    "# 학습 함수 정의\n",
    "# CompareResultsCallback 테스트 데이터셋을 활용하므로 인자로 넣어줌\n",
    "def train(default_config, X_test, y_test):\n",
    "\n",
    "    wandb.init(config = default_config)\n",
    "    config = wandb.config\n",
    "    \n",
    "    keras.backend.clear_session()\n",
    "\n",
    "    # Model\n",
    "    model = build_model_1DCNN(config)\n",
    "\n",
    "    # Compile\n",
    "    model.compile(optimizer = config.optimizer,\n",
    "                  loss = config.loss,\n",
    "                  metrics = config.metrics)\n",
    "    \n",
    "    # confunsion matrix 그리는 콜백\n",
    "    cm_callback = CompareResultsCallback(X_test, y_test, config.class_num)\n",
    "    \n",
    "    # 학습\n",
    "    history = model.fit(X_train, y_train,\n",
    "              epochs = config.epoch,\n",
    "              batch_size = config.batch_size,\n",
    "              validation_data = (X_val, y_val),\n",
    "              callbacks=[wandb.keras.WandbCallback(), cm_callback])\n",
    "    \n",
    "    # test dataset으로 f1 score 계산\n",
    "    test_loss, test_accuracy = model.evaluate(X_test, y_test, verbose=2)\n",
    "    pred_test = model.predict(X_test).argmax(axis=1)\n",
    "    f1_score_res = f1_score(y_test, pred_test, average='micro')\n",
    "\n",
    "    # wandb에 log 추가\n",
    "    wandb.log({\n",
    "        \"Test Accuracy Rate\": test_accuracy,\n",
    "        \"Test F1 Score\": f1_score_res,\n",
    "        \"Test Error Rate\": 1 - test_accuracy\n",
    "    })\n",
    "    \n",
    "    return history"
   ]
  },
  {
   "cell_type": "code",
   "execution_count": 41,
   "id": "faa277a6",
   "metadata": {
    "scrolled": false
   },
   "outputs": [
    {
     "name": "stdout",
     "output_type": "stream",
     "text": [
      "Create sweep with ID: k75gtd4i\n",
      "Sweep URL: https://wandb.ai/4-rldur0/DLthon_1DCNN_GRU/sweeps/k75gtd4i\n"
     ]
    },
    {
     "name": "stderr",
     "output_type": "stream",
     "text": [
      "\u001b[34m\u001b[1mwandb\u001b[0m: Agent Starting Run: qht61vwu with config:\n",
      "\u001b[34m\u001b[1mwandb\u001b[0m: \tbatch_size: 16\n",
      "\u001b[34m\u001b[1mwandb\u001b[0m: \tepoch: 5\n",
      "\u001b[34m\u001b[1mwandb\u001b[0m: \tlearning_rate: 0.055226630703554686\n",
      "\u001b[34m\u001b[1mwandb\u001b[0m: \toptimizer: rmsprop\n"
     ]
    },
    {
     "data": {
      "text/html": [
       "wandb version 0.17.3 is available!  To upgrade, please run:\n",
       " $ pip install wandb --upgrade"
      ],
      "text/plain": [
       "<IPython.core.display.HTML object>"
      ]
     },
     "metadata": {},
     "output_type": "display_data"
    },
    {
     "data": {
      "text/html": [
       "Tracking run with wandb version 0.16.0"
      ],
      "text/plain": [
       "<IPython.core.display.HTML object>"
      ]
     },
     "metadata": {},
     "output_type": "display_data"
    },
    {
     "data": {
      "text/html": [
       "Run data is saved locally in <code>/aiffel/aiffel/dlthon-minions/dlthon-kevin/wandb/run-20240626_002806-qht61vwu</code>"
      ],
      "text/plain": [
       "<IPython.core.display.HTML object>"
      ]
     },
     "metadata": {},
     "output_type": "display_data"
    },
    {
     "data": {
      "text/html": [
       "Syncing run <strong><a href='https://wandb.ai/4-rldur0/DLthon_1DCNN_GRU/runs/qht61vwu' target=\"_blank\">helpful-sweep-1</a></strong> to <a href='https://wandb.ai/4-rldur0/DLthon_1DCNN_GRU' target=\"_blank\">Weights & Biases</a> (<a href='https://wandb.me/run' target=\"_blank\">docs</a>)<br/>Sweep page: <a href='https://wandb.ai/4-rldur0/DLthon_1DCNN_GRU/sweeps/k75gtd4i' target=\"_blank\">https://wandb.ai/4-rldur0/DLthon_1DCNN_GRU/sweeps/k75gtd4i</a>"
      ],
      "text/plain": [
       "<IPython.core.display.HTML object>"
      ]
     },
     "metadata": {},
     "output_type": "display_data"
    },
    {
     "data": {
      "text/html": [
       " View project at <a href='https://wandb.ai/4-rldur0/DLthon_1DCNN_GRU' target=\"_blank\">https://wandb.ai/4-rldur0/DLthon_1DCNN_GRU</a>"
      ],
      "text/plain": [
       "<IPython.core.display.HTML object>"
      ]
     },
     "metadata": {},
     "output_type": "display_data"
    },
    {
     "data": {
      "text/html": [
       " View sweep at <a href='https://wandb.ai/4-rldur0/DLthon_1DCNN_GRU/sweeps/k75gtd4i' target=\"_blank\">https://wandb.ai/4-rldur0/DLthon_1DCNN_GRU/sweeps/k75gtd4i</a>"
      ],
      "text/plain": [
       "<IPython.core.display.HTML object>"
      ]
     },
     "metadata": {},
     "output_type": "display_data"
    },
    {
     "data": {
      "text/html": [
       " View run at <a href='https://wandb.ai/4-rldur0/DLthon_1DCNN_GRU/runs/qht61vwu' target=\"_blank\">https://wandb.ai/4-rldur0/DLthon_1DCNN_GRU/runs/qht61vwu</a>"
      ],
      "text/plain": [
       "<IPython.core.display.HTML object>"
      ]
     },
     "metadata": {},
     "output_type": "display_data"
    },
    {
     "name": "stdout",
     "output_type": "stream",
     "text": [
      "WARNING:tensorflow:Layer gru will not use cuDNN kernels since it doesn't meet the criteria. It will use a generic GPU kernel as fallback when running on GPU.\n",
      "Epoch 1/5\n",
      "248/248 [==============================] - 38s 144ms/step - loss: 1.3670 - accuracy: 0.3152 - val_loss: 1.1089 - val_accuracy: 0.3798\n",
      "INFO:tensorflow:Assets written to: /aiffel/aiffel/dlthon-minions/dlthon-kevin/wandb/run-20240626_002806-qht61vwu/files/model-best/assets\n"
     ]
    },
    {
     "name": "stderr",
     "output_type": "stream",
     "text": [
      "\u001b[34m\u001b[1mwandb\u001b[0m: Adding directory to artifact (/aiffel/aiffel/dlthon-minions/dlthon-kevin/wandb/run-20240626_002806-qht61vwu/files/model-best)... Done. 0.1s\n"
     ]
    },
    {
     "name": "stdout",
     "output_type": "stream",
     "text": [
      "Epoch 2/5\n",
      "248/248 [==============================] - 35s 143ms/step - loss: 1.0656 - accuracy: 0.4609 - val_loss: 0.8537 - val_accuracy: 0.5515\n",
      "INFO:tensorflow:Assets written to: /aiffel/aiffel/dlthon-minions/dlthon-kevin/wandb/run-20240626_002806-qht61vwu/files/model-best/assets\n"
     ]
    },
    {
     "name": "stderr",
     "output_type": "stream",
     "text": [
      "\u001b[34m\u001b[1mwandb\u001b[0m: Adding directory to artifact (/aiffel/aiffel/dlthon-minions/dlthon-kevin/wandb/run-20240626_002806-qht61vwu/files/model-best)... Done. 0.1s\n"
     ]
    },
    {
     "name": "stdout",
     "output_type": "stream",
     "text": [
      "Epoch 3/5\n",
      "248/248 [==============================] - 35s 143ms/step - loss: 0.6750 - accuracy: 0.7109 - val_loss: 0.6719 - val_accuracy: 0.7051\n",
      "INFO:tensorflow:Assets written to: /aiffel/aiffel/dlthon-minions/dlthon-kevin/wandb/run-20240626_002806-qht61vwu/files/model-best/assets\n"
     ]
    },
    {
     "name": "stderr",
     "output_type": "stream",
     "text": [
      "\u001b[34m\u001b[1mwandb\u001b[0m: Adding directory to artifact (/aiffel/aiffel/dlthon-minions/dlthon-kevin/wandb/run-20240626_002806-qht61vwu/files/model-best)... Done. 0.1s\n"
     ]
    },
    {
     "name": "stdout",
     "output_type": "stream",
     "text": [
      "Epoch 4/5\n",
      "248/248 [==============================] - 35s 142ms/step - loss: 0.4230 - accuracy: 0.8480 - val_loss: 0.5444 - val_accuracy: 0.7960\n",
      "INFO:tensorflow:Assets written to: /aiffel/aiffel/dlthon-minions/dlthon-kevin/wandb/run-20240626_002806-qht61vwu/files/model-best/assets\n"
     ]
    },
    {
     "name": "stderr",
     "output_type": "stream",
     "text": [
      "\u001b[34m\u001b[1mwandb\u001b[0m: Adding directory to artifact (/aiffel/aiffel/dlthon-minions/dlthon-kevin/wandb/run-20240626_002806-qht61vwu/files/model-best)... Done. 0.1s\n"
     ]
    },
    {
     "name": "stdout",
     "output_type": "stream",
     "text": [
      "Epoch 5/5\n",
      "248/248 [==============================] - 35s 143ms/step - loss: 0.2552 - accuracy: 0.9164 - val_loss: 0.4646 - val_accuracy: 0.8303\n",
      "INFO:tensorflow:Assets written to: /aiffel/aiffel/dlthon-minions/dlthon-kevin/wandb/run-20240626_002806-qht61vwu/files/model-best/assets\n"
     ]
    },
    {
     "name": "stderr",
     "output_type": "stream",
     "text": [
      "\u001b[34m\u001b[1mwandb\u001b[0m: Adding directory to artifact (/aiffel/aiffel/dlthon-minions/dlthon-kevin/wandb/run-20240626_002806-qht61vwu/files/model-best)... Done. 0.1s\n"
     ]
    },
    {
     "name": "stdout",
     "output_type": "stream",
     "text": [
      "16/16 - 0s - loss: 0.4068 - accuracy: 0.8646\n"
     ]
    },
    {
     "data": {
      "application/vnd.jupyter.widget-view+json": {
       "model_id": "",
       "version_major": 2,
       "version_minor": 0
      },
      "text/plain": [
       "VBox(children=(Label(value='129.268 MB of 129.268 MB uploaded (0.057 MB deduped)\\r'), FloatProgress(value=1.0,…"
      ]
     },
     "metadata": {},
     "output_type": "display_data"
    },
    {
     "data": {
      "text/html": [
       "<style>\n",
       "    table.wandb td:nth-child(1) { padding: 0 10px; text-align: left ; width: auto;} td:nth-child(2) {text-align: left ; width: 100%}\n",
       "    .wandb-row { display: flex; flex-direction: row; flex-wrap: wrap; justify-content: flex-start; width: 100% }\n",
       "    .wandb-col { display: flex; flex-direction: column; flex-basis: 100%; flex: 1; padding: 10px; }\n",
       "    </style>\n",
       "<div class=\"wandb-row\"><div class=\"wandb-col\"><h3>Run history:</h3><br/><table class=\"wandb\"><tr><td>Test Accuracy Rate</td><td>▁</td></tr><tr><td>Test Error Rate</td><td>▁</td></tr><tr><td>Test F1 Score</td><td>▁</td></tr><tr><td>accuracy</td><td>▁▃▆▇█</td></tr><tr><td>epoch</td><td>▁▃▅▆█</td></tr><tr><td>loss</td><td>█▆▄▂▁</td></tr><tr><td>val_accuracy</td><td>▁▄▆▇█</td></tr><tr><td>val_loss</td><td>█▅▃▂▁</td></tr></table><br/></div><div class=\"wandb-col\"><h3>Run summary:</h3><br/><table class=\"wandb\"><tr><td>Test Accuracy Rate</td><td>0.86465</td></tr><tr><td>Test Error Rate</td><td>0.13535</td></tr><tr><td>Test F1 Score</td><td>0.86465</td></tr><tr><td>accuracy</td><td>0.91641</td></tr><tr><td>best_epoch</td><td>4</td></tr><tr><td>best_val_loss</td><td>0.46456</td></tr><tr><td>epoch</td><td>4</td></tr><tr><td>loss</td><td>0.25523</td></tr><tr><td>val_accuracy</td><td>0.8303</td></tr><tr><td>val_loss</td><td>0.46456</td></tr></table><br/></div></div>"
      ],
      "text/plain": [
       "<IPython.core.display.HTML object>"
      ]
     },
     "metadata": {},
     "output_type": "display_data"
    },
    {
     "data": {
      "text/html": [
       " View run <strong style=\"color:#cdcd00\">helpful-sweep-1</strong> at: <a href='https://wandb.ai/4-rldur0/DLthon_1DCNN_GRU/runs/qht61vwu' target=\"_blank\">https://wandb.ai/4-rldur0/DLthon_1DCNN_GRU/runs/qht61vwu</a><br/>Synced 5 W&B file(s), 2 media file(s), 20 artifact file(s) and 1 other file(s)"
      ],
      "text/plain": [
       "<IPython.core.display.HTML object>"
      ]
     },
     "metadata": {},
     "output_type": "display_data"
    },
    {
     "data": {
      "text/html": [
       "Find logs at: <code>./wandb/run-20240626_002806-qht61vwu/logs</code>"
      ],
      "text/plain": [
       "<IPython.core.display.HTML object>"
      ]
     },
     "metadata": {},
     "output_type": "display_data"
    },
    {
     "data": {
      "image/png": "[encoded data removed]",
      "text/plain": [
       "<Figure size 720x504 with 2 Axes>"
      ]
     },
     "metadata": {
      "needs_background": "light"
     },
     "output_type": "display_data"
    }
   ],
   "source": [
    "# train()에 인자가 있으므로 wrapper function 정의\n",
    "def sweep_train():\n",
    "    train(default_config=default_config, X_test=X_test, y_test=y_test)\n",
    "\n",
    "# 팀프로젝트 내에서 sweep 실행\n",
    "sweep_id = wandb.sweep(sweep_config,\n",
    "                       entity = 'aiffel-minions',\n",
    "                       project = 'DLthon_1DCNN')\n",
    "\n",
    "\n",
    "wandb.agent(sweep_id,\n",
    "            function=sweep_train,\n",
    "            count=15)"
   ]
  }
 ],
 "metadata": {
  "colab": {
   "provenance": []
  },
  "kernelspec": {
   "display_name": "Python 3 (ipykernel)",
   "language": "python",
   "name": "python3"
  },
  "language_info": {
   "codemirror_mode": {
    "name": "ipython",
    "version": 3
   },
   "file_extension": ".py",
   "mimetype": "text/x-python",
   "name": "python",
   "nbconvert_exporter": "python",
   "pygments_lexer": "ipython3",
   "version": "3.9.7"
  }
 },
 "nbformat": 4,
 "nbformat_minor": 5
}
